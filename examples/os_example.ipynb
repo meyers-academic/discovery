{
 "cells": [
  {
   "cell_type": "markdown",
   "id": "4c423324-39e4-43ac-baad-e8425f9bcdc9",
   "metadata": {},
   "source": [
    "## Optimal statistic with discovery"
   ]
  },
  {
   "cell_type": "code",
   "execution_count": 1,
   "id": "c6454b33-412b-4ec9-9570-d1953caec6c4",
   "metadata": {},
   "outputs": [],
   "source": [
    "import sys\n",
    "import os\n",
    "import glob\n",
    "\n",
    "import tqdm"
   ]
  },
  {
   "cell_type": "code",
   "execution_count": 2,
   "id": "296177d2-81d9-4515-92d1-63ed47b103e1",
   "metadata": {},
   "outputs": [],
   "source": [
    "import numpy as np\n",
    "import pandas as pd\n",
    "import matplotlib.pyplot as pp\n",
    "\n",
    "%matplotlib inline"
   ]
  },
  {
   "cell_type": "code",
   "execution_count": 3,
   "id": "24fb3bee-f511-40f7-919f-614d468106a5",
   "metadata": {},
   "outputs": [],
   "source": [
    "import jax\n",
    "jax.config.update('jax_enable_x64', True)\n",
    "\n",
    "import jax.random\n",
    "import jax.numpy as jnp"
   ]
  },
  {
   "cell_type": "code",
   "execution_count": 4,
   "id": "dc8632d7-04af-42a4-a856-35517be1677b",
   "metadata": {},
   "outputs": [],
   "source": [
    "import discovery as ds"
   ]
  },
  {
   "cell_type": "markdown",
   "id": "d3bd4b98-7b56-445a-b50d-9b317f3df4d8",
   "metadata": {},
   "source": [
    "Read nanograv pulsars"
   ]
  },
  {
   "cell_type": "code",
   "execution_count": 5,
   "id": "0a1a5ab1-9254-426c-970e-06da0f78aac4",
   "metadata": {},
   "outputs": [],
   "source": [
    "allpsrs = [ds.Pulsar.read_feather(psrfile) for psrfile in sorted(glob.glob('../data/*-[JB]*.feather'))]"
   ]
  },
  {
   "cell_type": "markdown",
   "id": "587db81d-b3f3-4259-b025-d8b6e231bdb9",
   "metadata": {},
   "source": [
    "Run with fewer pulsars"
   ]
  },
  {
   "cell_type": "code",
   "execution_count": 6,
   "id": "39192995-c7fc-43a3-a2b0-a3312870426b",
   "metadata": {},
   "outputs": [],
   "source": [
    "psrs = allpsrs[:10]"
   ]
  },
  {
   "cell_type": "markdown",
   "id": "51078118-ddef-4f83-8876-9c00219213b6",
   "metadata": {},
   "source": [
    "Set up GlobalLikelihood object. The GP named 'gw' will be used to build the optimal statistic; everything else will be included in individual pulsar noise. This GW object should be identical for every pulsar, and have common parameters only."
   ]
  },
  {
   "cell_type": "code",
   "execution_count": 7,
   "id": "8ca267c8-3275-4df2-9448-29a32264c0e3",
   "metadata": {},
   "outputs": [
    {
     "data": {
      "text/plain": [
       "<module 'discovery' from '/Users/vallis/Documents/discovery/src/discovery/__init__.py'>"
      ]
     },
     "execution_count": 7,
     "metadata": {},
     "output_type": "execute_result"
    }
   ],
   "source": [
    "import importlib\n",
    "\n",
    "importlib.reload(ds.os)\n",
    "importlib.reload(ds)"
   ]
  },
  {
   "cell_type": "code",
   "execution_count": 8,
   "id": "996317c4-703a-421e-abd5-f2cbe6550b6a",
   "metadata": {},
   "outputs": [],
   "source": [
    "Tspan = ds.getspan(psrs)\n",
    "t0 = ds.getstart(psrs)\n",
    "\n",
    "gbl = ds.GlobalLikelihood([ds.PulsarLikelihood([psr.residuals,\n",
    "                                                ds.makenoise_measurement(psr, psr.noisedict),\n",
    "                                                ds.makegp_ecorr(psr, psr.noisedict),\n",
    "                                                ds.makegp_timing(psr, svd=True),\n",
    "                                                ds.makegp_fftcov(psr, ds.powerlaw, 61, oversample=6, T=Tspan, name='red_noise'),\n",
    "                                                ds.makegp_fftcov(psr, ds.brokenpowerlaw, 61, oversample=6, T=Tspan, t0=t0,\n",
    "                                                                 common=['gw_log10_A', 'gw_gamma', 'gw_log10_fb'], name='gw')\n",
    "                                                ]) for psr in psrs])"
   ]
  },
  {
   "cell_type": "markdown",
   "id": "8f7666c0-2754-46b0-bb16-49569f350f81",
   "metadata": {},
   "source": [
    "### Basic OS"
   ]
  },
  {
   "cell_type": "markdown",
   "id": "9bf5fab0-65a6-4702-b4ee-b7295787ca64",
   "metadata": {},
   "source": [
    "Make OS object"
   ]
  },
  {
   "cell_type": "code",
   "execution_count": 9,
   "id": "2eecd9b0-df92-4cd9-9c94-a20190990b4c",
   "metadata": {},
   "outputs": [
    {
     "name": "stdout",
     "output_type": "stream",
     "text": [
      "CPU times: user 44.8 ms, sys: 2.52 ms, total: 47.3 ms\n",
      "Wall time: 45.9 ms\n"
     ]
    }
   ],
   "source": [
    "%time os = ds.OS(gbl)"
   ]
  },
  {
   "cell_type": "markdown",
   "id": "008f35b5-9930-4b98-a0f8-ba8d03065462",
   "metadata": {},
   "source": [
    "Get a random set of parameters, force gamma to 13/3"
   ]
  },
  {
   "cell_type": "code",
   "execution_count": 10,
   "id": "d2a13f36-3e5e-424b-a751-57a8a6add516",
   "metadata": {},
   "outputs": [],
   "source": [
    "p0 = ds.sample_uniform(os.params, priordict={'gw_(.*_)?gamma': [13/3,13/3]})"
   ]
  },
  {
   "cell_type": "markdown",
   "id": "5023f127-76cd-4795-965d-b5060c5fb21b",
   "metadata": {},
   "source": [
    "Compute the OS for the data. You get also the corresponding sigma, SNR, and the amplitude of the GW."
   ]
  },
  {
   "cell_type": "code",
   "execution_count": 11,
   "id": "02dbb033-1243-48be-a5db-26801617bb95",
   "metadata": {},
   "outputs": [
    {
     "data": {
      "text/plain": [
       "{'os': Array(5.9910104e-30, dtype=float64),\n",
       " 'os_sigma': Array(1.99077814e-27, dtype=float64),\n",
       " 'snr': Array(0.00300938, dtype=float64),\n",
       " 'log10_A': -12.96304169401837}"
      ]
     },
     "execution_count": 11,
     "metadata": {},
     "output_type": "execute_result"
    }
   ],
   "source": [
    "os.os(p0)"
   ]
  },
  {
   "cell_type": "markdown",
   "id": "d5fdaee3-8436-4cce-956a-540d9f58bb98",
   "metadata": {
    "jp-MarkdownHeadingCollapsed": true
   },
   "source": [
    "### Alternative ORFs"
   ]
  },
  {
   "cell_type": "markdown",
   "id": "756eb6c1-0dac-4a22-bbf7-51c6f4f0d202",
   "metadata": {},
   "source": [
    "The ORF takes only one parameter (the product `z = dot(pos1, pos2)`). Discovery predefines `hd_orfa`, `monopole_orfa`, `dipole_orfa`."
   ]
  },
  {
   "cell_type": "code",
   "execution_count": 63,
   "id": "ab6e706a-834a-4b08-b224-a75b11444038",
   "metadata": {},
   "outputs": [
    {
     "data": {
      "text/plain": [
       "{'os': Array(5.50934365e-30, dtype=float64),\n",
       " 'os_sigma': Array(1.03401729e-29, dtype=float64),\n",
       " 'snr': Array(0.53280963, dtype=float64),\n",
       " 'log10_A': -12.11677005017712}"
      ]
     },
     "execution_count": 63,
     "metadata": {},
     "output_type": "execute_result"
    }
   ],
   "source": [
    "os.os(p0, ds.monopole_orfa)"
   ]
  },
  {
   "cell_type": "code",
   "execution_count": 64,
   "id": "8c322c6b-2b08-4bab-90af-f474ba972071",
   "metadata": {},
   "outputs": [
    {
     "data": {
      "text/plain": [
       "{'os': Array(7.35383537e-30, dtype=float64),\n",
       " 'os_sigma': Array(1.75419332e-29, dtype=float64),\n",
       " 'snr': Array(0.41921465, dtype=float64),\n",
       " 'log10_A': -12.11677005017712}"
      ]
     },
     "execution_count": 64,
     "metadata": {},
     "output_type": "execute_result"
    }
   ],
   "source": [
    "os.os(p0, ds.dipole_orfa)"
   ]
  },
  {
   "cell_type": "markdown",
   "id": "92772234-842e-4155-84c3-3db71b8d77da",
   "metadata": {},
   "source": [
    "### \"Marginalized\" OS "
   ]
  },
  {
   "cell_type": "markdown",
   "id": "3f26f52c-29ab-4363-9658-f7e5b3356a21",
   "metadata": {},
   "source": [
    "Create a population of parameters (normally we'd get them from an MCMC run)."
   ]
  },
  {
   "cell_type": "code",
   "execution_count": 65,
   "id": "4d831d02-e0ba-45ca-9f88-197330a850e3",
   "metadata": {},
   "outputs": [],
   "source": [
    "p0s = ds.sample_uniform(os.params, priordict={'gw_(.*_)?gamma': [13/3,13/3]}, n=5)"
   ]
  },
  {
   "cell_type": "code",
   "execution_count": 66,
   "id": "4a082435-7eef-46f8-a5b3-1882ba874b27",
   "metadata": {},
   "outputs": [
    {
     "data": {
      "text/plain": [
       "array([0.89509136, 4.93412033, 3.98655564, 1.34624826, 5.96623953])"
      ]
     },
     "execution_count": 66,
     "metadata": {},
     "output_type": "execute_result"
    }
   ],
   "source": [
    "p0s['B1855+09_red_noise_gamma']"
   ]
  },
  {
   "cell_type": "markdown",
   "id": "568a6f98-6364-4f91-a672-ffebd72dc20c",
   "metadata": {},
   "source": [
    "Then we `jax.vmap` over parameter sets"
   ]
  },
  {
   "cell_type": "code",
   "execution_count": 67,
   "id": "95b8ad5d-7a2e-459c-a5c3-20ca05fd5c11",
   "metadata": {},
   "outputs": [],
   "source": [
    "os_vpar = jax.vmap(os.os)"
   ]
  },
  {
   "cell_type": "code",
   "execution_count": 68,
   "id": "22617978-b92b-4528-a4a1-000f6fa96ebe",
   "metadata": {},
   "outputs": [
    {
     "data": {
      "text/plain": [
       "{'log10_A': array([-15.38365639, -14.23822937, -14.7741985 , -13.83253618,\n",
       "        -12.85009408]),\n",
       " 'os': Array([ 1.09293369e-29,  4.94251978e-30,  1.83796125e-30, -8.71881909e-30,\n",
       "         2.06918798e-30], dtype=float64),\n",
       " 'os_sigma': Array([8.25075514e-31, 5.87877944e-31, 4.84132509e-31, 2.30306809e-30,\n",
       "        4.59172685e-30], dtype=float64),\n",
       " 'snr': Array([13.24646861,  8.40739108,  3.79640122, -3.78574092,  0.45063394],      dtype=float64)}"
      ]
     },
     "execution_count": 68,
     "metadata": {},
     "output_type": "execute_result"
    }
   ],
   "source": [
    "os_vpar(p0s)"
   ]
  },
  {
   "cell_type": "markdown",
   "id": "b85435d5-f4a5-4b0c-8bbf-bf4b671a0f71",
   "metadata": {},
   "source": [
    "### Scrambles"
   ]
  },
  {
   "cell_type": "markdown",
   "id": "37eadbca-e3ff-4eb8-8edc-5380cab6e59f",
   "metadata": {},
   "source": [
    "`os.scramble` takes as a second argument an array (or list) of pulsar positions of dimension `(npsr, 3)`"
   ]
  },
  {
   "cell_type": "code",
   "execution_count": 69,
   "id": "c470b099-33f7-44bc-896d-f9107163e639",
   "metadata": {},
   "outputs": [
    {
     "data": {
      "text/plain": [
       "Array([[ 0.235276  , -0.95735312,  0.16769083],\n",
       "       [ 0.38400231, -0.84770959,  0.36596539],\n",
       "       [ 0.41542527, -0.76954724,  0.4849937 ],\n",
       "       [ 0.98151466,  0.10005025,  0.16315308],\n",
       "       [ 0.98761743,  0.1320268 ,  0.08473928],\n",
       "       [ 0.42846049,  0.61411581,  0.66278457],\n",
       "       [ 0.40865968,  0.75692046,  0.5099693 ],\n",
       "       [ 0.23974131,  0.63501757, -0.73435467],\n",
       "       [ 0.21645786,  0.96384399,  0.15540512],\n",
       "       [ 0.01039278,  0.96199519,  0.27286854]], dtype=float64)"
      ]
     },
     "execution_count": 69,
     "metadata": {},
     "output_type": "execute_result"
    }
   ],
   "source": [
    "jnp.array(os.pos)"
   ]
  },
  {
   "cell_type": "code",
   "execution_count": 70,
   "id": "6efd8d53-38ca-41a5-b319-3aeb1f780bf6",
   "metadata": {},
   "outputs": [
    {
     "data": {
      "text/plain": [
       "{'os': Array(-3.83283248e-30, dtype=float64),\n",
       " 'os_sigma': Array(4.35015195e-29, dtype=float64),\n",
       " 'snr': Array(-0.08810801, dtype=float64),\n",
       " 'log10_A': -12.11677005017712}"
      ]
     },
     "execution_count": 70,
     "metadata": {},
     "output_type": "execute_result"
    }
   ],
   "source": [
    "os.scramble(p0, jnp.array(os.pos))"
   ]
  },
  {
   "cell_type": "markdown",
   "id": "199c62e1-fb9d-445d-a3d6-27eedcc38f49",
   "metadata": {},
   "source": [
    "To build a background you'll want a random array of positions of dimension `(nscramble, npsr, 3)`"
   ]
  },
  {
   "cell_type": "code",
   "execution_count": 71,
   "id": "a22888ad-f8ac-4c64-aeac-cd0908347004",
   "metadata": {},
   "outputs": [],
   "source": [
    "key = ds.matrix.jnpkey(42)\n",
    "rpos = jax.random.normal(key, (15, len(psrs), 3))\n",
    "npos = rpos / jnp.linalg.norm(rpos, axis=2)[:,:,None] # normalize vectors"
   ]
  },
  {
   "cell_type": "markdown",
   "id": "7965b68d-1c1e-4c8d-8206-b86f28a5b5f0",
   "metadata": {},
   "source": [
    "Then we `jax.vmap` over positions (the second argument)."
   ]
  },
  {
   "cell_type": "code",
   "execution_count": 72,
   "id": "a4608072-c475-4c34-bd55-7c0ac6bdb28d",
   "metadata": {},
   "outputs": [],
   "source": [
    "scramble_vpos = jax.vmap(os.scramble, (None,0))"
   ]
  },
  {
   "cell_type": "code",
   "execution_count": 73,
   "id": "b7241577-7e0c-4ff5-80c1-6a5895c22926",
   "metadata": {},
   "outputs": [
    {
     "data": {
      "text/plain": [
       "{'log10_A': Array([-12.11677005, -12.11677005, -12.11677005, -12.11677005,\n",
       "        -12.11677005, -12.11677005, -12.11677005, -12.11677005,\n",
       "        -12.11677005, -12.11677005, -12.11677005, -12.11677005,\n",
       "        -12.11677005, -12.11677005, -12.11677005],      dtype=float64, weak_type=True),\n",
       " 'os': Array([ 1.95249806e-29,  1.81802271e-29,  2.09065617e-30,  5.97532235e-30,\n",
       "        -5.60806608e-29, -7.20305872e-30,  1.25598639e-29, -2.93565709e-29,\n",
       "        -5.66463939e-30,  2.57360339e-29, -4.86104165e-29, -1.53192259e-29,\n",
       "         9.88381790e-31, -1.09649446e-30, -7.70309569e-30], dtype=float64),\n",
       " 'os_sigma': Array([8.33156373e-29, 1.08359434e-28, 3.68741026e-29, 6.98922008e-29,\n",
       "        1.02361543e-28, 9.82447774e-29, 6.26563180e-29, 7.74374387e-29,\n",
       "        5.41309179e-29, 5.00710894e-29, 8.15971780e-29, 8.88932359e-29,\n",
       "        6.98856407e-29, 7.25703275e-29, 6.73513784e-29], dtype=float64),\n",
       " 'snr': Array([ 0.23434953,  0.16777706,  0.05669714,  0.08549341, -0.54786846,\n",
       "        -0.07331747,  0.20045646, -0.37910049, -0.10464702,  0.51398989,\n",
       "        -0.59573649, -0.17233286,  0.01414285, -0.0151094 , -0.11437176],      dtype=float64)}"
      ]
     },
     "execution_count": 73,
     "metadata": {},
     "output_type": "execute_result"
    }
   ],
   "source": [
    "scramble_vpos(p0, npos)"
   ]
  },
  {
   "cell_type": "markdown",
   "id": "b069a97b-2277-44e3-bbf5-c441ae38f842",
   "metadata": {},
   "source": [
    "### Phase shifts"
   ]
  },
  {
   "cell_type": "markdown",
   "id": "51a80095-c4a4-47aa-9a77-ce6a6cf47621",
   "metadata": {},
   "source": [
    "These require a diagonal Fourier GW object."
   ]
  },
  {
   "cell_type": "code",
   "execution_count": 191,
   "id": "5147b8f2-2323-44e9-9783-ef8a37fd29e8",
   "metadata": {},
   "outputs": [],
   "source": [
    "gbl = ds.GlobalLikelihood([ds.PulsarLikelihood([psr.residuals,\n",
    "                                                ds.makenoise_measurement(psr, psr.noisedict),\n",
    "                                                ds.makegp_ecorr(psr, psr.noisedict),\n",
    "                                                ds.makegp_timing(psr, svd=True),\n",
    "                                                ds.makegp_fourier(psr, ds.brokenpowerlaw, 30, T=Tspan, name='red_noise'),\n",
    "                                                ds.makegp_fourier(psr, ds.brokenpowerlaw, 14, T=Tspan,\n",
    "                                                                  common=['gw_log10_A', 'gw_gamma', 'gw_log10_fb'], name='gw')\n",
    "                                                ]) for psr in psrs])"
   ]
  },
  {
   "cell_type": "code",
   "execution_count": 192,
   "id": "2b91a20c-7bad-446c-82ad-477de0ac603e",
   "metadata": {},
   "outputs": [],
   "source": [
    "os = ds.OS(gbl)"
   ]
  },
  {
   "cell_type": "code",
   "execution_count": 193,
   "id": "e7b4f219-4266-4b89-a678-e0e7bc7a0e5e",
   "metadata": {},
   "outputs": [
    {
     "data": {
      "text/plain": [
       "{'os': Array(-4.30823733e-27, dtype=float64),\n",
       " 'os_sigma': Array(6.93011257e-25, dtype=float64),\n",
       " 'snr': Array(-0.00621669, dtype=float64),\n",
       " 'log10_A': -11.735012908976142}"
      ]
     },
     "execution_count": 193,
     "metadata": {},
     "output_type": "execute_result"
    }
   ],
   "source": [
    "os.os(p0)"
   ]
  },
  {
   "cell_type": "markdown",
   "id": "0e4308e7-04bf-4b13-91d0-033939170faa",
   "metadata": {},
   "source": [
    "`os.shift` takes as a second argument an array (or list) of pulsar positions of dimension `(npsr, nfreq)`."
   ]
  },
  {
   "cell_type": "markdown",
   "id": "e0c5b1bc-cb95-42eb-a423-ca43432f03e7",
   "metadata": {},
   "source": [
    "Sanity check..."
   ]
  },
  {
   "cell_type": "code",
   "execution_count": 194,
   "id": "00302cc7-cc3d-416d-9907-9e09f314fb33",
   "metadata": {},
   "outputs": [
    {
     "data": {
      "text/plain": [
       "{'os': Array(-4.30823733e-27, dtype=float64),\n",
       " 'os_sigma': Array(6.93011257e-25, dtype=float64),\n",
       " 'snr': Array(-0.00621669, dtype=float64),\n",
       " 'log10_A': -11.735012908976142}"
      ]
     },
     "execution_count": 194,
     "metadata": {},
     "output_type": "execute_result"
    }
   ],
   "source": [
    "zero = jnp.zeros((len(psrs),14))\n",
    "os.shift(p0, zero)"
   ]
  },
  {
   "cell_type": "code",
   "execution_count": 195,
   "id": "e7c7562e-4a73-4f95-999b-173c6bfd56d2",
   "metadata": {},
   "outputs": [],
   "source": [
    "key = ds.matrix.jnpkey(42)\n",
    "phases = 2.0 * jnp.pi * jax.random.uniform(key, shape=(20,10,14))"
   ]
  },
  {
   "cell_type": "markdown",
   "id": "b7b69e56-1270-4984-96dc-24eb47fbff46",
   "metadata": {},
   "source": [
    "Then we `jax.vmap` over phases (the second argument)."
   ]
  },
  {
   "cell_type": "code",
   "execution_count": 196,
   "id": "7fa8be52-3fb3-4ced-8f76-4985078d02b8",
   "metadata": {},
   "outputs": [],
   "source": [
    "shift_vphase = jax.vmap(os.shift, (None,0))"
   ]
  },
  {
   "cell_type": "code",
   "execution_count": 197,
   "id": "0b010936-d19e-4bb1-9e6c-eb7ae5d3b489",
   "metadata": {},
   "outputs": [
    {
     "data": {
      "text/plain": [
       "{'log10_A': Array([-11.73501291, -11.73501291, -11.73501291, -11.73501291,\n",
       "        -11.73501291, -11.73501291, -11.73501291, -11.73501291,\n",
       "        -11.73501291, -11.73501291, -11.73501291, -11.73501291,\n",
       "        -11.73501291, -11.73501291, -11.73501291, -11.73501291,\n",
       "        -11.73501291, -11.73501291, -11.73501291, -11.73501291],      dtype=float64, weak_type=True),\n",
       " 'os': Array([ 3.33941002e-27, -7.33895271e-28,  8.43668277e-28,  6.88771478e-28,\n",
       "        -4.11956898e-27, -4.53248655e-27, -1.41526412e-28,  3.27782405e-29,\n",
       "         2.40576463e-27,  4.13801015e-28,  1.67877729e-27,  7.12885800e-28,\n",
       "        -2.09995848e-28, -4.57350093e-28, -3.42784005e-27,  4.21363613e-27,\n",
       "        -1.01422436e-27,  2.77293787e-27, -4.00326034e-28,  1.39401202e-27],      dtype=float64),\n",
       " 'os_sigma': Array([6.93011257e-25, 6.93011257e-25, 6.93011257e-25, 6.93011257e-25,\n",
       "        6.93011257e-25, 6.93011257e-25, 6.93011257e-25, 6.93011257e-25,\n",
       "        6.93011257e-25, 6.93011257e-25, 6.93011257e-25, 6.93011257e-25,\n",
       "        6.93011257e-25, 6.93011257e-25, 6.93011257e-25, 6.93011257e-25,\n",
       "        6.93011257e-25, 6.93011257e-25, 6.93011257e-25, 6.93011257e-25],      dtype=float64),\n",
       " 'snr': Array([ 4.81869520e-03, -1.05899473e-03,  1.21739477e-03,  9.93882092e-04,\n",
       "        -5.94444742e-03, -6.54027840e-03, -2.04219499e-04,  4.72982801e-05,\n",
       "         3.47146544e-03,  5.97105762e-04,  2.42243871e-03,  1.02867853e-03,\n",
       "        -3.03019389e-04, -6.59946124e-04, -4.94629779e-03,  6.08018425e-03,\n",
       "        -1.46350344e-03,  4.00128835e-03, -5.77661662e-04,  2.01152868e-03],      dtype=float64)}"
      ]
     },
     "execution_count": 197,
     "metadata": {},
     "output_type": "execute_result"
    }
   ],
   "source": [
    "shift_vphase(p0, phases)"
   ]
  },
  {
   "cell_type": "markdown",
   "id": "18982470-fa17-4e8e-8272-cdb98013c3c7",
   "metadata": {},
   "source": [
    "### Plotting correlation coefficients"
   ]
  },
  {
   "cell_type": "markdown",
   "id": "00c20119-6b09-4659-bb48-f8409a53adbf",
   "metadata": {},
   "source": [
    "Build a NANOGrav 15-yr model using all the pulsars."
   ]
  },
  {
   "cell_type": "code",
   "execution_count": 25,
   "id": "6a1b8c22-c42f-4f47-9764-864db9de1634",
   "metadata": {},
   "outputs": [],
   "source": [
    "import importlib"
   ]
  },
  {
   "cell_type": "code",
   "execution_count": 24,
   "id": "831790d9-ef3f-4acb-88e1-9fae985246a0",
   "metadata": {},
   "outputs": [],
   "source": [
    "import discovery.ostat as ostat"
   ]
  },
  {
   "cell_type": "code",
   "execution_count": 197,
   "id": "2505af6a-2876-43b3-a3cd-27a9d3d1491c",
   "metadata": {},
   "outputs": [
    {
     "data": {
      "text/plain": [
       "<module 'discovery.ostat' from '/Users/vallis/Documents/discovery/src/discovery/ostat.py'>"
      ]
     },
     "execution_count": 197,
     "metadata": {},
     "output_type": "execute_result"
    }
   ],
   "source": [
    "importlib.reload(ds.signals)\n",
    "importlib.reload(ds)\n",
    "importlib.reload(ostat)"
   ]
  },
  {
   "cell_type": "code",
   "execution_count": 6,
   "id": "7c586885-d158-4f70-82aa-c0d740a87742",
   "metadata": {},
   "outputs": [],
   "source": [
    "Tspan = ds.getspan(allpsrs)\n",
    "\n",
    "gbl = ds.GlobalLikelihood([ds.PulsarLikelihood([psr.residuals,\n",
    "                                                ds.makenoise_measurement(psr, psr.noisedict),\n",
    "                                                ds.makegp_ecorr(psr, psr.noisedict),\n",
    "                                                ds.makegp_timing(psr, svd=True),\n",
    "                                                ds.makegp_fourier(psr, ds.powerlaw, 30, T=Tspan, name='red_noise'),\n",
    "                                                ds.makegp_fourier(psr, ds.powerlaw, 14, T=Tspan,\n",
    "                                                                  common=['gw_log10_A', 'gw_gamma'], name='gw')\n",
    "                                                ]) for psr in allpsrs])"
   ]
  },
  {
   "cell_type": "markdown",
   "id": "e437d5b0-5e95-4ab6-a66b-a2d5977a891a",
   "metadata": {},
   "source": [
    "Get the MAP parameter set from an actual MCMC run on 15-yr NANOGrav data"
   ]
  },
  {
   "cell_type": "code",
   "execution_count": 8,
   "id": "7bfe0ce6-6bd8-4ff0-92d6-c0917d3b608b",
   "metadata": {},
   "outputs": [],
   "source": [
    "df = pd.read_feather('../data/NG15yr-m2a-chain.feather')"
   ]
  },
  {
   "cell_type": "code",
   "execution_count": 9,
   "id": "1c92db61-e1c9-41db-9eae-8400c2a4044f",
   "metadata": {},
   "outputs": [],
   "source": [
    "p0 = df.iloc[df['logp'].argmax()].to_dict()"
   ]
  },
  {
   "cell_type": "markdown",
   "id": "96df9e44-78ec-4a7e-8cbd-755e50880173",
   "metadata": {},
   "source": [
    "Sanity check"
   ]
  },
  {
   "cell_type": "code",
   "execution_count": 47,
   "id": "aee3aa5c-afa5-4b1b-b3f2-0385dcb614a7",
   "metadata": {},
   "outputs": [
    {
     "data": {
      "text/plain": [
       "{'os': Array(4.80080526e-29, dtype=float64),\n",
       " 'os_sigma': Array(9.44338793e-30, dtype=float64),\n",
       " 'snr': Array(5.08377427, dtype=float64),\n",
       " 'log10_A': -14.186517715454102}"
      ]
     },
     "execution_count": 47,
     "metadata": {},
     "output_type": "execute_result"
    }
   ],
   "source": [
    "os.os(p0)"
   ]
  },
  {
   "cell_type": "markdown",
   "id": "d7672301-3569-4f07-bff2-554ba864f890",
   "metadata": {},
   "source": [
    "Simple minded correlation plot: get angles and bin the data"
   ]
  },
  {
   "cell_type": "code",
   "execution_count": 16,
   "id": "2a91e47a-3830-4301-9e2f-934125592a0a",
   "metadata": {},
   "outputs": [],
   "source": [
    "def oscorr(os, p0, nbins=10):\n",
    "    iota = np.arccos(jnp.array(os.angles)) * (180 / np.pi)\n",
    "\n",
    "    bins = np.linspace(0, 180, nbins + 1)\n",
    "    indices = np.digitize(iota, bins) - 1\n",
    "    masks = [np.where(indices == i)[0] for i in range(nbins)]\n",
    "\n",
    "    # orfs = ds.hd_orfa(np.array(os.angles))\n",
    "    orfs = np.ones_like(os.angles)\n",
    "\n",
    "    rhos, sigmas = os.os_rhosigma(p0)\n",
    "    gwnorm = 10**(2.0 * p0[os.gwpar])\n",
    "    rhos, sigmas = gwnorm * rhos, gwnorm * sigmas\n",
    "    \n",
    "    iotas = [np.mean(iota[mask]) for mask in masks]\n",
    "    oses = [np.sum(rhos[mask] * orfs[mask] / sigmas[mask]**2) / np.sum(orfs[mask]**2 / sigmas[mask]**2)\n",
    "            for mask in masks]\n",
    "    osigs = [1 / np.sqrt(np.sum(orfs[mask]**2 / sigmas[mask]**2))\n",
    "           for mask in masks]\n",
    "\n",
    "    return iotas, oses, osigs"
   ]
  },
  {
   "cell_type": "code",
   "execution_count": 17,
   "id": "07fd1061-af3e-4488-9ac5-34ba1e186a6f",
   "metadata": {},
   "outputs": [],
   "source": [
    "iotas, oses, osigs = oscorr(os, p0)"
   ]
  },
  {
   "cell_type": "code",
   "execution_count": 18,
   "id": "4f4518dc-1d51-4f77-84e2-969e81fd66f1",
   "metadata": {},
   "outputs": [
    {
     "data": {
      "image/png": "[encoded data removed]",
      "text/plain": [
       "<Figure size 640x480 with 1 Axes>"
      ]
     },
     "metadata": {},
     "output_type": "display_data"
    }
   ],
   "source": [
    "pp.errorbar(iotas, oses, yerr=osigs, fmt='.')\n",
    "\n",
    "a = np.linspace(1e-6, 180)\n",
    "hd = ost.os(p0)['os'] * ds.hd_orfa(np.cos(a * (np.pi/180.0)))\n",
    "\n",
    "pp.plot(a, hd)\n",
    "pp.xlabel('iota'); pp.ylabel(r'$A_\\mathrm{gw}^2$');"
   ]
  },
  {
   "cell_type": "markdown",
   "id": "470cf270-9523-4e21-b4dd-bcf77e6a90c7",
   "metadata": {},
   "source": [
    "Plot the distribution of SNRs on a subchain"
   ]
  },
  {
   "cell_type": "code",
   "execution_count": 19,
   "id": "2ea34406-86ce-4149-b535-616e616a868e",
   "metadata": {},
   "outputs": [],
   "source": [
    "chain = df.sample(1000).astype(np.float64)\n",
    "p0s = {var: jnp.array(chain[var]) for var in df.columns}"
   ]
  },
  {
   "cell_type": "code",
   "execution_count": 20,
   "id": "2b0426e2-59a7-44c7-b133-b3b8cbb5467b",
   "metadata": {},
   "outputs": [],
   "source": [
    "vos = jax.jit(jax.vmap(os.os))"
   ]
  },
  {
   "cell_type": "code",
   "execution_count": 21,
   "id": "787b88dc-e589-4a86-9178-ea8c88678fcd",
   "metadata": {},
   "outputs": [
    {
     "name": "stdout",
     "output_type": "stream",
     "text": [
      "CPU times: user 33.1 s, sys: 1.13 s, total: 34.2 s\n",
      "Wall time: 34.1 s\n"
     ]
    }
   ],
   "source": [
    "%time oses = vos(p0s)"
   ]
  },
  {
   "cell_type": "code",
   "execution_count": 31,
   "id": "f86a72c7-9fe1-4580-ac55-65e0c349bcdc",
   "metadata": {},
   "outputs": [
    {
     "data": {
      "text/plain": [
       "<matplotlib.legend.Legend at 0x9351bdf90>"
      ]
     },
     "execution_count": 31,
     "metadata": {},
     "output_type": "execute_result"
    },
    {
     "data": {
      "image/png": "[encoded data removed]",
      "text/plain": [
       "<Figure size 640x480 with 1 Axes>"
      ]
     },
     "metadata": {},
     "output_type": "display_data"
    }
   ],
   "source": [
    "pp.hist(oses['snr'], histtype='step', bins=20, density=True, label='fourier');\n",
    "# pp.hist(ostes['snr'], histtype='step', bins=20, density=True, label='fftcov');\n",
    "pp.axvline(np.mean(oses['snr']), color='C0', ls=':');\n",
    "# pp.axvline(np.mean(ostes['snr']), color='C1', ls=':');\n",
    "pp.legend()"
   ]
  },
  {
   "cell_type": "markdown",
   "id": "3a8ca8dd-7543-4bcc-bc79-42fcc6e87775",
   "metadata": {},
   "source": [
    "### GX2 distribution"
   ]
  },
  {
   "cell_type": "code",
   "execution_count": 41,
   "id": "ddfc2315-9c8f-4bcd-aebd-7e9adbff33aa",
   "metadata": {},
   "outputs": [
    {
     "name": "stdout",
     "output_type": "stream",
     "text": [
      "CPU times: user 3min 26s, sys: 22.6 s, total: 3min 48s\n",
      "Wall time: 30.5 s\n"
     ]
    },
    {
     "data": {
      "text/plain": [
       "array([0.99784652])"
      ]
     },
     "execution_count": 41,
     "metadata": {},
     "output_type": "execute_result"
    }
   ],
   "source": [
    "%time os.gx2cdf(p0, [5.07], cutoff=1e-6, limit=200, epsabs=1e-6)"
   ]
  },
  {
   "cell_type": "code",
   "execution_count": 39,
   "id": "31f66ed6-58b5-4cc9-a677-2373b8b74781",
   "metadata": {},
   "outputs": [
    {
     "data": {
      "text/plain": [
       "[<matplotlib.lines.Line2D at 0x7051e5e50>]"
      ]
     },
     "execution_count": 39,
     "metadata": {},
     "output_type": "execute_result"
    },
    {
     "data": {
      "image/png": "[encoded data removed]",
      "text/plain": [
       "<Figure size 640x480 with 1 Axes>"
      ]
     },
     "metadata": {},
     "output_type": "display_data"
    }
   ],
   "source": [
    "xs = np.linspace(-5.5, 5.5)\n",
    "pp.plot(xs, os.gx2cdf(p0, xs, cutoff=1e-6, limit=200, epsabs=1e-6))"
   ]
  },
  {
   "cell_type": "code",
   "execution_count": null,
   "id": "a22a2f75-180b-4816-8f46-a05afea1199e",
   "metadata": {},
   "outputs": [],
   "source": []
  }
 ],
 "metadata": {
  "kernelspec": {
   "display_name": "Python 3 (ipykernel)",
   "language": "python",
   "name": "python3"
  },
  "language_info": {
   "codemirror_mode": {
    "name": "ipython",
    "version": 3
   },
   "file_extension": ".py",
   "mimetype": "text/x-python",
   "name": "python",
   "nbconvert_exporter": "python",
   "pygments_lexer": "ipython3",
   "version": "3.13.1"
  }
 },
 "nbformat": 4,
 "nbformat_minor": 5
}
