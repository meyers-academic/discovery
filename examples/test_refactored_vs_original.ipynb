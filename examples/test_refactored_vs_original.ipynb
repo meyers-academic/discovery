{
 "cells": [
  {
   "cell_type": "code",
   "execution_count": 1,
   "id": "254a9fcd",
   "metadata": {},
   "outputs": [],
   "source": [
    "%load_ext autoreload\n",
    "%autoreload 2\n",
    "import sys\n",
    "import os\n",
    "import glob\n",
    "\n",
    "import tqdm\n",
    "\n",
    "import numpy as np\n",
    "import pandas as pd\n",
    "import matplotlib.pyplot as pp\n",
    "\n",
    "%matplotlib inline\n",
    "\n",
    "import jax\n",
    "jax.config.update('jax_enable_x64', True)\n",
    "\n",
    "import jax.random\n",
    "import jax.numpy as jnp\n",
    "\n",
    "import discovery as ds\n",
    "import discovery.models.nanograv as ds_nanograv\n",
    "import discovery.samplers.numpyro as ds_numpyro\n",
    "\n",
    "import discovery.likelihood_refactored as dsl"
   ]
  },
  {
   "cell_type": "code",
   "execution_count": 2,
   "id": "9cb56c37",
   "metadata": {},
   "outputs": [],
   "source": [
    "allpsrs = [ds.Pulsar.read_feather(psrfile) for psrfile in sorted(glob.glob('../data/*-[JB]*.feather'))]\n",
    "psr = allpsrs[0]"
   ]
  },
  {
   "cell_type": "code",
   "execution_count": 3,
   "id": "7a8bb1ba",
   "metadata": {},
   "outputs": [],
   "source": [
    "m = ds.PulsarLikelihood([psr.residuals,\n",
    "                         ds.makenoise_measurement_simple(psr)])\n",
    "m2 = dsl.PulsarLikelihood([psr.residuals,\n",
    "                          ds.makenoise_measurement_simple(psr)])"
   ]
  },
  {
   "cell_type": "code",
   "execution_count": 4,
   "id": "ad7aea53",
   "metadata": {},
   "outputs": [
    {
     "data": {
      "text/plain": [
       "['B1855+09_efac', 'B1855+09_log10_t2equad']"
      ]
     },
     "execution_count": 4,
     "metadata": {},
     "output_type": "execute_result"
    }
   ],
   "source": [
    "m.logL.params"
   ]
  },
  {
   "cell_type": "code",
   "execution_count": 5,
   "id": "d92b1902",
   "metadata": {},
   "outputs": [
    {
     "data": {
      "text/plain": [
       "['B1855+09_efac', 'B1855+09_log10_t2equad']"
      ]
     },
     "execution_count": 5,
     "metadata": {},
     "output_type": "execute_result"
    }
   ],
   "source": [
    "m2.logL.params"
   ]
  },
  {
   "cell_type": "code",
   "execution_count": 6,
   "id": "292147d8",
   "metadata": {},
   "outputs": [],
   "source": [
    "test_pars = ds.sample_uniform(m.logL.params)"
   ]
  },
  {
   "cell_type": "code",
   "execution_count": 7,
   "id": "227ec2eb",
   "metadata": {},
   "outputs": [
    {
     "name": "stdout",
     "output_type": "stream",
     "text": [
      "237 μs ± 42.7 μs per loop (mean ± std. dev. of 7 runs, 1 loop each)\n"
     ]
    }
   ],
   "source": [
    "%%timeit\n",
    "jax.block_until_ready(m.logL(test_pars))\n"
   ]
  },
  {
   "cell_type": "code",
   "execution_count": 8,
   "id": "002ce799",
   "metadata": {},
   "outputs": [
    {
     "name": "stdout",
     "output_type": "stream",
     "text": [
      "161 μs ± 16 μs per loop (mean ± std. dev. of 7 runs, 1,000 loops each)\n"
     ]
    }
   ],
   "source": [
    "%%timeit\n",
    "jax.block_until_ready(m2.logL(test_pars))"
   ]
  },
  {
   "cell_type": "code",
   "execution_count": 9,
   "id": "e7e9db45",
   "metadata": {},
   "outputs": [
    {
     "data": {
      "text/plain": [
       "Array(True, dtype=bool)"
      ]
     },
     "execution_count": 9,
     "metadata": {},
     "output_type": "execute_result"
    }
   ],
   "source": [
    "jlogl_m = jax.jit(m.logL)\n",
    "jlogl_m2 = jax.jit(m2.logL)\n",
    "jlogl_m(test_pars) == jlogl_m(test_pars)"
   ]
  },
  {
   "cell_type": "code",
   "execution_count": 10,
   "id": "641cd5b4",
   "metadata": {},
   "outputs": [
    {
     "name": "stdout",
     "output_type": "stream",
     "text": [
      "67.7 μs ± 3.46 μs per loop (mean ± std. dev. of 7 runs, 10,000 loops each)\n"
     ]
    }
   ],
   "source": [
    "%%timeit\n",
    "jax.block_until_ready(jlogl_m(test_pars))"
   ]
  },
  {
   "cell_type": "code",
   "execution_count": 11,
   "id": "09ef3b96",
   "metadata": {},
   "outputs": [
    {
     "name": "stdout",
     "output_type": "stream",
     "text": [
      "64 μs ± 1.32 μs per loop (mean ± std. dev. of 7 runs, 10,000 loops each)\n"
     ]
    }
   ],
   "source": [
    "%%timeit\n",
    "jax.block_until_ready(jlogl_m2(test_pars))"
   ]
  },
  {
   "cell_type": "code",
   "execution_count": 12,
   "id": "4122bbeb",
   "metadata": {},
   "outputs": [],
   "source": [
    "m = ds.PulsarLikelihood([psr.residuals,\n",
    "                         ds.makenoise_measurement(psr, psr.noisedict),\n",
    "                         ds.makegp_ecorr(psr, psr.noisedict),\n",
    "                         ds.makegp_timing(psr, svd=True),\n",
    "                        #  ds.makegp_fourier(psr, ds.powerlaw, components=30, name='rednoise')\n",
    "                         ])\n",
    "m2 = dsl.PulsarLikelihood([psr.residuals,\n",
    "                         ds.makenoise_measurement(psr, psr.noisedict),\n",
    "                         ds.makegp_ecorr(psr, psr.noisedict),\n",
    "                         ds.makegp_timing(psr, svd=True),\n",
    "                        #  ds.makegp_fourier(psr, ds.powerlaw, components=30, name='rednoise')\n",
    "                         ])"
   ]
  },
  {
   "cell_type": "code",
   "execution_count": 13,
   "id": "5e22ea68",
   "metadata": {},
   "outputs": [],
   "source": [
    "test_pars = ds.sample_uniform(m.logL.params)"
   ]
  },
  {
   "cell_type": "code",
   "execution_count": 14,
   "id": "ce6a36ba",
   "metadata": {},
   "outputs": [
    {
     "name": "stdout",
     "output_type": "stream",
     "text": [
      "858 ns ± 6.46 ns per loop (mean ± std. dev. of 7 runs, 1,000,000 loops each)\n"
     ]
    }
   ],
   "source": [
    "%%timeit\n",
    "jax.block_until_ready(m.logL(test_pars))"
   ]
  },
  {
   "cell_type": "code",
   "execution_count": 15,
   "id": "2c096e61",
   "metadata": {},
   "outputs": [
    {
     "name": "stdout",
     "output_type": "stream",
     "text": [
      "The slowest run took 4.04 times longer than the fastest. This could mean that an intermediate result is being cached.\n",
      "1.73 μs ± 977 ns per loop (mean ± std. dev. of 7 runs, 1 loop each)\n"
     ]
    }
   ],
   "source": [
    "%%timeit\n",
    "jax.block_until_ready(m2.logL(test_pars))"
   ]
  },
  {
   "cell_type": "code",
   "execution_count": 16,
   "id": "3c6c4dd2",
   "metadata": {},
   "outputs": [
    {
     "data": {
      "text/plain": [
       "Array(False, dtype=bool)"
      ]
     },
     "execution_count": 16,
     "metadata": {},
     "output_type": "execute_result"
    }
   ],
   "source": [
    "jlogl_m = jax.jit(m.logL)\n",
    "jlogl_m2 = jax.jit(m2.logL)\n",
    "jlogl_m(test_pars)==jlogl_m2(test_pars)"
   ]
  },
  {
   "cell_type": "code",
   "execution_count": 17,
   "id": "e22a9c78",
   "metadata": {},
   "outputs": [
    {
     "name": "stdout",
     "output_type": "stream",
     "text": [
      "6.04 μs ± 28 ns per loop (mean ± std. dev. of 7 runs, 100,000 loops each)\n"
     ]
    }
   ],
   "source": [
    "%%timeit\n",
    "jax.block_until_ready(jlogl_m(test_pars))"
   ]
  },
  {
   "cell_type": "code",
   "execution_count": 18,
   "id": "927a1a46",
   "metadata": {},
   "outputs": [
    {
     "name": "stdout",
     "output_type": "stream",
     "text": [
      "5.99 μs ± 32 ns per loop (mean ± std. dev. of 7 runs, 100,000 loops each)\n"
     ]
    }
   ],
   "source": [
    "%%timeit\n",
    "jax.block_until_ready(jlogl_m2(test_pars))"
   ]
  },
  {
   "cell_type": "code",
   "execution_count": 19,
   "id": "695b8dee",
   "metadata": {},
   "outputs": [
    {
     "name": "stdout",
     "output_type": "stream",
     "text": [
      " "
     ]
    },
    {
     "name": "stdout",
     "output_type": "stream",
     "text": [
      "         50003 function calls in 0.019 seconds\n",
      "\n",
      "   Ordered by: internal time\n",
      "\n",
      "   ncalls  tottime  percall  cumtime  percall filename:lineno(function)\n",
      "    10000    0.007    0.000    0.015    0.000 api.py:2932(block_until_ready)\n",
      "    10000    0.004    0.000    0.004    0.000 api.py:2943(try_to_block)\n",
      "        1    0.004    0.004    0.019    0.019 <string>:1(<module>)\n",
      "    10000    0.003    0.000    0.003    0.000 tree_util.py:87(tree_leaves)\n",
      "    10000    0.001    0.000    0.001    0.000 {built-in method builtins.isinstance}\n",
      "    10000    0.001    0.000    0.001    0.000 matrix.py:919(kernelproduct)\n",
      "        1    0.000    0.000    0.019    0.019 {built-in method builtins.exec}\n",
      "        1    0.000    0.000    0.000    0.000 {method 'disable' of '_lsprof.Profiler' objects}"
     ]
    }
   ],
   "source": [
    "%%prun\n",
    "for ii in range(10000):\n",
    "    jax.block_until_ready(m.logL(test_pars))"
   ]
  },
  {
   "cell_type": "code",
   "execution_count": 20,
   "id": "0a40cc45",
   "metadata": {},
   "outputs": [
    {
     "name": "stdout",
     "output_type": "stream",
     "text": [
      " "
     ]
    },
    {
     "name": "stdout",
     "output_type": "stream",
     "text": [
      "         70003 function calls in 0.024 seconds\n",
      "\n",
      "   Ordered by: internal time\n",
      "\n",
      "   ncalls  tottime  percall  cumtime  percall filename:lineno(function)\n",
      "    10000    0.010    0.000    0.019    0.000 api.py:2932(block_until_ready)\n",
      "    10000    0.004    0.000    0.004    0.000 api.py:2943(try_to_block)\n",
      "        1    0.004    0.004    0.024    0.024 <string>:1(<module>)\n",
      "    10000    0.003    0.000    0.003    0.000 tree_util.py:87(tree_leaves)\n",
      "    10000    0.001    0.000    0.001    0.000 matrix_refactored.py:675(kernelproduct)\n",
      "    10000    0.000    0.000    0.000    0.000 {built-in method builtins.isinstance}\n",
      "    10000    0.000    0.000    0.000    0.000 {built-in method builtins.len}\n",
      "    10000    0.000    0.000    0.000    0.000 {method 'append' of 'list' objects}\n",
      "        1    0.000    0.000    0.024    0.024 {built-in method builtins.exec}\n",
      "        1    0.000    0.000    0.000    0.000 {method 'disable' of '_lsprof.Profiler' objects}"
     ]
    }
   ],
   "source": [
    "%%prun\n",
    "for ii in range(10000):\n",
    "    jax.block_until_ready(m2.logL(test_pars))"
   ]
  },
  {
   "cell_type": "code",
   "execution_count": 101,
   "id": "0724e626",
   "metadata": {},
   "outputs": [],
   "source": [
    "m = ds.PulsarLikelihood([psr.residuals,\n",
    "                         ds.makenoise_measurement(psr, psr.noisedict),\n",
    "                         ds.makegp_ecorr(psr, psr.noisedict),\n",
    "                         ds.makegp_timing(psr, svd=True),\n",
    "                         ds.makegp_fourier(psr, ds.powerlaw, components=30, name='rednoise')\n",
    "                         ])\n",
    "m2 = dsl.PulsarLikelihood([psr.residuals,\n",
    "                         ds.makenoise_measurement(psr, psr.noisedict),\n",
    "                         ds.makegp_ecorr(psr, psr.noisedict),\n",
    "                         ds.makegp_timing(psr, svd=True),\n",
    "                         ds.makegp_fourier(psr, ds.powerlaw, components=30, name='rednoise')\n",
    "                         ])"
   ]
  },
  {
   "cell_type": "code",
   "execution_count": 102,
   "id": "8d1f3211",
   "metadata": {},
   "outputs": [],
   "source": [
    "test_pars = ds.sample_uniform(m.logL.params)"
   ]
  },
  {
   "cell_type": "code",
   "execution_count": 103,
   "id": "f34f54be",
   "metadata": {},
   "outputs": [
    {
     "name": "stdout",
     "output_type": "stream",
     "text": [
      "259 μs ± 71.1 μs per loop (mean ± std. dev. of 7 runs, 1 loop each)\n"
     ]
    }
   ],
   "source": [
    "%%timeit\n",
    "jax.block_until_ready(m.logL(test_pars))"
   ]
  },
  {
   "cell_type": "code",
   "execution_count": 104,
   "id": "985c2986",
   "metadata": {},
   "outputs": [
    {
     "name": "stdout",
     "output_type": "stream",
     "text": [
      "373 μs ± 4.85 μs per loop (mean ± std. dev. of 7 runs, 1,000 loops each)\n"
     ]
    }
   ],
   "source": [
    "%%timeit\n",
    "jax.block_until_ready(m2.logL(test_pars))"
   ]
  },
  {
   "cell_type": "code",
   "execution_count": 105,
   "id": "23523874",
   "metadata": {},
   "outputs": [
    {
     "data": {
      "text/plain": [
       "Array(False, dtype=bool)"
      ]
     },
     "execution_count": 105,
     "metadata": {},
     "output_type": "execute_result"
    }
   ],
   "source": [
    "jlogl_m = jax.jit(m.logL)\n",
    "jlogl_m2 = jax.jit(m2.logL)\n",
    "jlogl_m(test_pars)==jlogl_m2(test_pars)"
   ]
  },
  {
   "cell_type": "code",
   "execution_count": 106,
   "id": "5e2ea7f9",
   "metadata": {},
   "outputs": [
    {
     "name": "stdout",
     "output_type": "stream",
     "text": [
      "54.4 μs ± 1.45 μs per loop (mean ± std. dev. of 7 runs, 10,000 loops each)\n"
     ]
    }
   ],
   "source": [
    "%%timeit\n",
    "jax.block_until_ready(jlogl_m(test_pars))"
   ]
  },
  {
   "cell_type": "code",
   "execution_count": 107,
   "id": "c08af092",
   "metadata": {},
   "outputs": [
    {
     "name": "stdout",
     "output_type": "stream",
     "text": [
      "138 μs ± 1.95 μs per loop (mean ± std. dev. of 7 runs, 10,000 loops each)\n"
     ]
    }
   ],
   "source": [
    "%%timeit\n",
    "jax.block_until_ready(jlogl_m2(test_pars))"
   ]
  },
  {
   "cell_type": "code",
   "execution_count": 108,
   "id": "78303e42",
   "metadata": {},
   "outputs": [
    {
     "name": "stdout",
     "output_type": "stream",
     "text": [
      " "
     ]
    },
    {
     "name": "stdout",
     "output_type": "stream",
     "text": [
      "         2870003 function calls in 3.673 seconds\n",
      "\n",
      "   Ordered by: internal time\n",
      "\n",
      "   ncalls  tottime  percall  cumtime  percall filename:lineno(function)\n",
      "   100000    0.912    0.000    1.188    0.000 ufunc_api.py:173(__call__)\n",
      "    20000    0.421    0.000    0.674    0.000 matrix.py:18(<lambda>)\n",
      "    10000    0.308    0.000    0.308    0.000 api.py:2943(try_to_block)\n",
      "   130000    0.291    0.000    1.782    0.000 array_methods.py:574(deferring_binary_op)\n",
      "    20000    0.225    0.000    0.253    0.000 reductions.py:240(sum)\n",
      "    10000    0.175    0.000    0.175    0.000 linalg.py:167(cho_solve)\n",
      "    10000    0.168    0.000    3.270    0.000 matrix.py:1330(kernelproduct)\n",
      "    20000    0.154    0.000    0.156    0.000 lax_numpy.py:7921(diag)\n",
      "    10000    0.139    0.000    0.271    0.000 ufuncs.py:2598(power)\n",
      "    10000    0.094    0.000    0.094    0.000 linalg.py:49(cholesky)\n",
      "   230000    0.091    0.000    0.146    0.000 util.py:132(_arraylike)\n",
      "   350000    0.072    0.000    0.218    0.000 util.py:174(<genexpr>)\n",
      "   860000    0.069    0.000    0.069    0.000 {built-in method builtins.isinstance}\n",
      "        1    0.067    0.067    3.673    3.673 <string>:1(<module>)\n",
      "   120000    0.060    0.000    0.327    0.000 util.py:171(check_arraylike)\n",
      "   130000    0.047    0.000    0.339    0.000 {built-in method builtins.any}\n",
      "    20000    0.041    0.000    0.060    0.000 dtypes.py:800(dtype)\n",
      "    10000    0.038    0.000    0.667    0.000 signals.py:757(powerlaw)\n",
      "    10000    0.024    0.000    1.331    0.000 matrix.py:654(inv)\n",
      "    10000    0.022    0.000    0.136    0.000 lax_numpy.py:1133(transpose)\n",
      "    50000    0.020    0.000    0.023    0.000 numeric.py:1855(isscalar)\n",
      "    10000    0.020    0.000    0.035    0.000 lax.py:2907(transpose)\n",
      "    10000    0.018    0.000    0.336    0.000 api.py:2932(block_until_ready)\n",
      "   210000    0.018    0.000    0.018    0.000 {built-in method builtins.hasattr}\n",
      "    10000    0.017    0.000    0.033    0.000 lax_numpy.py:1208(<listcomp>)\n",
      "    30000    0.014    0.000    0.073    0.000 util.py:196(<genexpr>)\n",
      "    30000    0.012    0.000    0.020    0.000 array.py:269(ndim)\n",
      "    20000    0.012    0.000    0.028    0.000 reductions.py:216(_ensure_optional_axes)\n",
      "    10000    0.010    0.000    0.038    0.000 util.py:154(ensure_arraylike)\n",
      "    20000    0.010    0.000    0.017    0.000 core.py:1596(concrete_or_error)\n",
      "    10000    0.008    0.000    0.679    0.000 signals.py:318(priorfunc)\n",
      "    10000    0.008    0.000    0.008    0.000 tree_util.py:87(tree_leaves)\n",
      "    10000    0.007    0.000    0.009    0.000 dtypes.py:404(issubdtype)\n",
      "    50000    0.006    0.000    0.006    0.000 {built-in method _operator.index}\n",
      "    30000    0.006    0.000    0.006    0.000 array.py:261(shape)\n",
      "    10000    0.006    0.000    0.009    0.000 util.py:137(_arraylike_asarray)\n",
      "    10000    0.005    0.000    0.141    0.000 array_methods.py:425(_transpose_property)\n",
      "    20000    0.005    0.000    0.017    0.000 fromnumeric.py:3176(ndim)\n",
      "    10000    0.005    0.000    0.006    0.000 util.py:372(canonicalize_axis)\n",
      "    10000    0.005    0.000    0.099    0.000 linalg.py:109(cho_factor)\n",
      "    10000    0.005    0.000    0.005    0.000 error.py:68(_set_error_if_nan)\n",
      "    50000    0.005    0.000    0.005    0.000 {built-in method builtins.len}\n",
      "    20000    0.004    0.000    0.004    0.000 array.py:265(dtype)\n",
      "    20000    0.004    0.000    0.005    0.000 lax.py:2913(<genexpr>)\n",
      "    10000    0.003    0.000    0.008    0.000 core.py:1569(is_concrete)\n",
      "    10000    0.003    0.000    0.081    0.000 util.py:194(check_no_float0s)\n",
      "    10000    0.003    0.000    0.003    0.000 signals.py:319(<listcomp>)\n",
      "    10000    0.003    0.000    0.006    0.000 {built-in method builtins.getattr}\n",
      "    10000    0.003    0.000    0.004    0.000 core.py:1572(to_concrete_value)\n",
      "    10000    0.002    0.000    0.003    0.000 lax.py:139(asarray)\n",
      "    20000    0.002    0.000    0.002    0.000 reductions.py:217(force)\n",
      "    20000    0.002    0.000    0.002    0.000 fromnumeric.py:3172(_ndim_dispatcher)\n",
      "    10000    0.001    0.000    0.001    0.000 multiarray.py:669(result_type)\n",
      "    10000    0.001    0.000    0.001    0.000 {method 'append' of 'list' objects}\n",
      "        1    0.000    0.000    3.673    3.673 {built-in method builtins.exec}\n",
      "        1    0.000    0.000    0.000    0.000 {method 'disable' of '_lsprof.Profiler' objects}"
     ]
    }
   ],
   "source": [
    "%%prun\n",
    "for ii in range(10000):\n",
    "    jax.block_until_ready(m.logL(test_pars))"
   ]
  },
  {
   "cell_type": "code",
   "execution_count": 109,
   "id": "a9718ec5",
   "metadata": {},
   "outputs": [
    {
     "name": "stdout",
     "output_type": "stream",
     "text": [
      " "
     ]
    },
    {
     "name": "stdout",
     "output_type": "stream",
     "text": [
      "         2340003 function calls in 3.987 seconds\n",
      "\n",
      "   Ordered by: internal time\n",
      "\n",
      "   ncalls  tottime  percall  cumtime  percall filename:lineno(function)\n",
      "    90000    1.428    0.000    1.671    0.000 ufunc_api.py:173(__call__)\n",
      "   130000    0.437    0.000    2.418    0.000 array_methods.py:574(deferring_binary_op)\n",
      "    20000    0.381    0.000    0.651    0.000 matrix.py:18(<lambda>)\n",
      "    10000    0.246    0.000    3.759    0.000 <string>:45(kernelproduct)\n",
      "    20000    0.244    0.000    0.271    0.000 reductions.py:240(sum)\n",
      "    20000    0.172    0.000    0.174    0.000 lax_numpy.py:7921(diag)\n",
      "    10000    0.148    0.000    0.280    0.000 ufuncs.py:2598(power)\n",
      "        1    0.137    0.137    3.987    3.987 <string>:1(<module>)\n",
      "    10000    0.115    0.000    0.115    0.000 linalg.py:167(cho_solve)\n",
      "   200000    0.078    0.000    0.124    0.000 util.py:132(_arraylike)\n",
      "    10000    0.073    0.000    0.073    0.000 linalg.py:49(cholesky)\n",
      "   300000    0.062    0.000    0.186    0.000 util.py:174(<genexpr>)\n",
      "   750000    0.060    0.000    0.060    0.000 {built-in method builtins.isinstance}\n",
      "    10000    0.059    0.000    0.059    0.000 api.py:2943(try_to_block)\n",
      "   100000    0.050    0.000    0.277    0.000 util.py:171(check_arraylike)\n",
      "   110000    0.041    0.000    0.300    0.000 {built-in method builtins.any}\n",
      "    10000    0.040    0.000    0.576    0.000 signals.py:757(powerlaw)\n",
      "    20000    0.038    0.000    0.058    0.000 dtypes.py:800(dtype)\n",
      "    10000    0.025    0.000    1.203    0.000 matrix.py:654(inv)\n",
      "    10000    0.020    0.000    0.092    0.000 api.py:2932(block_until_ready)\n",
      "    40000    0.016    0.000    0.019    0.000 numeric.py:1855(isscalar)\n",
      "   190000    0.015    0.000    0.015    0.000 {built-in method builtins.hasattr}\n",
      "    30000    0.015    0.000    0.073    0.000 util.py:196(<genexpr>)\n",
      "    20000    0.010    0.000    0.017    0.000 core.py:1596(concrete_or_error)\n",
      "    20000    0.010    0.000    0.026    0.000 reductions.py:216(_ensure_optional_axes)\n",
      "    10000    0.010    0.000    0.010    0.000 tree_util.py:87(tree_leaves)\n",
      "    10000    0.009    0.000    0.589    0.000 signals.py:318(priorfunc)\n",
      "    10000    0.007    0.000    0.010    0.000 dtypes.py:404(issubdtype)\n",
      "    30000    0.005    0.000    0.005    0.000 {built-in method _operator.index}\n",
      "    10000    0.005    0.000    0.005    0.000 error.py:68(_set_error_if_nan)\n",
      "    20000    0.005    0.000    0.005    0.000 array.py:265(dtype)\n",
      "    10000    0.004    0.000    0.077    0.000 linalg.py:109(cho_factor)\n",
      "    10000    0.004    0.000    0.008    0.000 core.py:1569(is_concrete)\n",
      "    10000    0.004    0.000    0.004    0.000 signals.py:319(<listcomp>)\n",
      "    10000    0.003    0.000    0.081    0.000 util.py:194(check_no_float0s)\n",
      "    10000    0.003    0.000    0.006    0.000 {built-in method builtins.getattr}\n",
      "    10000    0.003    0.000    0.004    0.000 core.py:1572(to_concrete_value)\n",
      "    20000    0.002    0.000    0.002    0.000 reductions.py:217(force)\n",
      "    10000    0.001    0.000    0.001    0.000 {built-in method builtins.len}\n",
      "    10000    0.001    0.000    0.001    0.000 multiarray.py:669(result_type)\n",
      "    10000    0.001    0.000    0.001    0.000 {method 'append' of 'list' objects}\n",
      "        1    0.000    0.000    3.987    3.987 {built-in method builtins.exec}\n",
      "        1    0.000    0.000    0.000    0.000 {method 'disable' of '_lsprof.Profiler' objects}"
     ]
    }
   ],
   "source": [
    "%%prun\n",
    "for ii in range(10000):\n",
    "    jax.block_until_ready(m2.logL(test_pars))"
   ]
  },
  {
   "cell_type": "code",
   "execution_count": 89,
   "id": "8c147282",
   "metadata": {},
   "outputs": [],
   "source": [
    "lls_new = []\n",
    "lls_old = []\n",
    "for ii in range(100):\n",
    "    test_pars = ds.sample_uniform(m.logL.params)\n",
    "    lls_old.append(m.logL(test_pars))\n",
    "    lls_new.append(m2.logL(test_pars))"
   ]
  },
  {
   "cell_type": "code",
   "execution_count": 90,
   "id": "747e2f8a",
   "metadata": {},
   "outputs": [],
   "source": [
    "import matplotlib.pyplot as plt"
   ]
  },
  {
   "cell_type": "code",
   "execution_count": 91,
   "id": "a0fefb38",
   "metadata": {},
   "outputs": [
    {
     "data": {
      "image/png": "[encoded data removed]",
      "text/plain": [
       "<Figure size 640x480 with 1 Axes>"
      ]
     },
     "metadata": {},
     "output_type": "display_data"
    }
   ],
   "source": [
    "plt.scatter(lls_old, lls_new)\n",
    "plt.plot([min(lls_old), max(lls_old)], [min(lls_old), max(lls_old)], color='red', linestyle='--')\n",
    "plt.xlabel('Original Log-Likelihood')\n",
    "plt.ylabel('Refactored Log-Likelihood')\n",
    "plt.show()"
   ]
  },
  {
   "cell_type": "code",
   "execution_count": 63,
   "id": "c976ba05",
   "metadata": {},
   "outputs": [
    {
     "name": "stdout",
     "output_type": "stream",
     "text": [
      "Original m_orig attributes: ['N', '__class__', '__delattr__', '__dict__', '__dir__', '__doc__', '__eq__', '__format__', '__ge__', '__getattribute__', '__getstate__', '__gt__', '__hash__', '__init__', '__init_subclass__', '__le__', '__lt__', '__module__', '__ne__', '__new__', '__reduce__', '__reduce_ex__', '__repr__', '__setattr__', '__sizeof__', '__str__', '__subclasshook__', '__weakref__', 'clogL', 'conditional', 'delay', 'logL', 'sample', 'sample_conditional', 'y']\n",
      "Refactored m_refact attributes: ['N', '__class__', '__delattr__', '__dict__', '__dir__', '__doc__', '__eq__', '__format__', '__ge__', '__getattribute__', '__getstate__', '__gt__', '__hash__', '__init__', '__init_subclass__', '__le__', '__lt__', '__module__', '__ne__', '__new__', '__reduce__', '__reduce_ex__', '__repr__', '__setattr__', '__sizeof__', '__str__', '__subclasshook__', '__weakref__', 'clogL', 'conditional', 'delay', 'logL', 'sample', 'sample_conditional', 'y']\n"
     ]
    },
    {
     "ename": "AttributeError",
     "evalue": "'PulsarLikelihood' object has no attribute 'components'",
     "output_type": "error",
     "traceback": [
      "\u001b[31m---------------------------------------------------------------------------\u001b[39m",
      "\u001b[31mAttributeError\u001b[39m                            Traceback (most recent call last)",
      "\u001b[36mCell\u001b[39m\u001b[36m \u001b[39m\u001b[32mIn[63]\u001b[39m\u001b[32m, line 13\u001b[39m\n\u001b[32m     10\u001b[39m \u001b[38;5;28mprint\u001b[39m(\u001b[33m\"\u001b[39m\u001b[33mRefactored m_refact attributes:\u001b[39m\u001b[33m\"\u001b[39m, \u001b[38;5;28mdir\u001b[39m(m_refact))\n\u001b[32m     12\u001b[39m \u001b[38;5;66;03m# Try to find the kernel in the likelihood components\u001b[39;00m\n\u001b[32m---> \u001b[39m\u001b[32m13\u001b[39m \u001b[38;5;28mprint\u001b[39m(\u001b[33m\"\u001b[39m\u001b[38;5;130;01m\\n\u001b[39;00m\u001b[33mOriginal likelihood components:\u001b[39m\u001b[33m\"\u001b[39m, \u001b[43mm_orig\u001b[49m\u001b[43m.\u001b[49m\u001b[43mcomponents\u001b[49m)\n\u001b[32m     14\u001b[39m \u001b[38;5;28mprint\u001b[39m(\u001b[33m\"\u001b[39m\u001b[33mRefactored likelihood components:\u001b[39m\u001b[33m\"\u001b[39m, m_refact.components)\n\u001b[32m     16\u001b[39m \u001b[38;5;66;03m# Look at the first component that might be the kernel\u001b[39;00m\n",
      "\u001b[31mAttributeError\u001b[39m: 'PulsarLikelihood' object has no attribute 'components'"
     ]
    }
   ],
   "source": [
    "# Add this to a notebook cell to debug the varP case\n",
    "import jax\n",
    "\n",
    "# Create both kernels\n",
    "m_orig = ds.PulsarLikelihood([psr.residuals, ds.makenoise_measurement_simple(psr)])\n",
    "m_refact = dsl.PulsarLikelihood([psr.residuals, ds.makenoise_measurement_simple(psr)])\n",
    "\n",
    "# Explore the structure to find the kernel\n",
    "print(\"Original m_orig attributes:\", dir(m_orig))\n",
    "print(\"Refactored m_refact attributes:\", dir(m_refact))\n",
    "\n",
    "# Try to find the kernel in the likelihood components\n",
    "print(\"\\nOriginal likelihood components:\", m_orig.components)\n",
    "print(\"Refactored likelihood components:\", m_refact.components)\n",
    "\n",
    "# Look at the first component that might be the kernel\n",
    "if hasattr(m_orig.components[0], 'kernel'):\n",
    "    print(\"Original kernel type:\", type(m_orig.components[0].kernel))\n",
    "    print(\"Refactored kernel type:\", type(m_refact.components[0].kernel))\n",
    "else:\n",
    "    # The kernel might be the component itself\n",
    "    print(\"Original component type:\", type(m_orig.components[0]))\n",
    "    print(\"Refactored component type:\", type(m_refact.components[0]))\n",
    "\n",
    "# Test parameters\n",
    "test_pars = ds.sample_uniform(m_orig.logL.params)\n",
    "print(\"Test parameters:\", test_pars)"
   ]
  },
  {
   "cell_type": "code",
   "execution_count": null,
   "id": "46375f96",
   "metadata": {},
   "outputs": [],
   "source": []
  }
 ],
 "metadata": {
  "kernelspec": {
   "display_name": "discovery_clean",
   "language": "python",
   "name": "python3"
  },
  "language_info": {
   "codemirror_mode": {
    "name": "ipython",
    "version": 3
   },
   "file_extension": ".py",
   "mimetype": "text/x-python",
   "name": "python",
   "nbconvert_exporter": "python",
   "pygments_lexer": "ipython3",
   "version": "3.11.0"
  }
 },
 "nbformat": 4,
 "nbformat_minor": 5
}
