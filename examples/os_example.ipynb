{
 "cells": [
  {
   "cell_type": "markdown",
   "id": "4c423324-39e4-43ac-baad-e8425f9bcdc9",
   "metadata": {},
   "source": [
    "## Optimal statistic with discovery"
   ]
  },
  {
   "cell_type": "code",
   "execution_count": 2,
   "id": "c6454b33-412b-4ec9-9570-d1953caec6c4",
   "metadata": {},
   "outputs": [],
   "source": [
    "import sys\n",
    "import os\n",
    "import glob\n",
    "\n",
    "import tqdm"
   ]
  },
  {
   "cell_type": "code",
   "execution_count": 3,
   "id": "296177d2-81d9-4515-92d1-63ed47b103e1",
   "metadata": {},
   "outputs": [],
   "source": [
    "import numpy as np\n",
    "import pandas as pd\n",
    "import matplotlib.pyplot as pp\n",
    "\n",
    "%matplotlib inline"
   ]
  },
  {
   "cell_type": "code",
   "execution_count": 4,
   "id": "24fb3bee-f511-40f7-919f-614d468106a5",
   "metadata": {},
   "outputs": [],
   "source": [
    "import jax\n",
    "jax.config.update('jax_enable_x64', True)\n",
    "\n",
    "import jax.random\n",
    "import jax.numpy as jnp"
   ]
  },
  {
   "cell_type": "code",
   "execution_count": 5,
   "id": "dc8632d7-04af-42a4-a856-35517be1677b",
   "metadata": {},
   "outputs": [],
   "source": [
    "import discovery as ds"
   ]
  },
  {
   "cell_type": "markdown",
   "id": "d3bd4b98-7b56-445a-b50d-9b317f3df4d8",
   "metadata": {},
   "source": [
    "Read nanograv pulsars"
   ]
  },
  {
   "cell_type": "code",
   "execution_count": 6,
   "id": "0a1a5ab1-9254-426c-970e-06da0f78aac4",
   "metadata": {},
   "outputs": [],
   "source": [
    "allpsrs = [ds.Pulsar.read_feather(psrfile) for psrfile in sorted(glob.glob('../data/*-[JB]*.feather'))]"
   ]
  },
  {
   "cell_type": "markdown",
   "id": "587db81d-b3f3-4259-b025-d8b6e231bdb9",
   "metadata": {},
   "source": [
    "Run with fewer pulsars"
   ]
  },
  {
   "cell_type": "code",
   "execution_count": 8,
   "id": "39192995-c7fc-43a3-a2b0-a3312870426b",
   "metadata": {},
   "outputs": [],
   "source": [
    "psrs = allpsrs[:10]"
   ]
  },
  {
   "cell_type": "markdown",
   "id": "51078118-ddef-4f83-8876-9c00219213b6",
   "metadata": {},
   "source": [
    "Set up GlobalLikelihood object. The GP named 'gw' will be used to build the optimal statistic; everything else will be included in individual pulsar noise. This GW object should be identical for every pulsar, and have common parameters only."
   ]
  },
  {
   "cell_type": "code",
   "execution_count": 17,
   "id": "8ca267c8-3275-4df2-9448-29a32264c0e3",
   "metadata": {},
   "outputs": [
    {
     "data": {
      "text/plain": [
       "<module 'discovery' from '/Users/vallis/Documents/discovery/src/discovery/__init__.py'>"
      ]
     },
     "execution_count": 17,
     "metadata": {},
     "output_type": "execute_result"
    }
   ],
   "source": [
    "import importlib\n",
    "\n",
    "importlib.reload(ds.os)\n",
    "importlib.reload(ds)"
   ]
  },
  {
   "cell_type": "code",
   "execution_count": 268,
   "id": "996317c4-703a-421e-abd5-f2cbe6550b6a",
   "metadata": {},
   "outputs": [],
   "source": [
    "Tspan = ds.getspan(psrs)\n",
    "\n",
    "gbl = ds.GlobalLikelihood([ds.PulsarLikelihood([psr.residuals,\n",
    "                                                ds.makenoise_measurement(psr, psr.noisedict),\n",
    "                                                ds.makegp_ecorr(psr, psr.noisedict),\n",
    "                                                ds.makegp_timing(psr, svd=True),\n",
    "                                                ds.makegp_fftcov(psr, ds.powerlaw, 61, oversample=6, T=Tspan, name='red_noise'),\n",
    "                                                ds.makegp_fftcov(psr, ds.brokenpowerlaw, 61, oversample=6, T=Tspan,\n",
    "                                                                 common=['gw_log10_A', 'gw_gamma', 'gw_log10_fb'], name='gw')\n",
    "                                                ]) for psr in psrs])"
   ]
  },
  {
   "cell_type": "markdown",
   "id": "8f7666c0-2754-46b0-bb16-49569f350f81",
   "metadata": {},
   "source": [
    "### Basic OS"
   ]
  },
  {
   "cell_type": "markdown",
   "id": "9bf5fab0-65a6-4702-b4ee-b7295787ca64",
   "metadata": {},
   "source": [
    "Make OS object"
   ]
  },
  {
   "cell_type": "code",
   "execution_count": 269,
   "id": "2eecd9b0-df92-4cd9-9c94-a20190990b4c",
   "metadata": {},
   "outputs": [
    {
     "name": "stdout",
     "output_type": "stream",
     "text": [
      "CPU times: user 2.14 ms, sys: 31.2 ms, total: 33.3 ms\n",
      "Wall time: 32.4 ms\n"
     ]
    }
   ],
   "source": [
    "%time os = ds.OS(gbl)"
   ]
  },
  {
   "cell_type": "markdown",
   "id": "008f35b5-9930-4b98-a0f8-ba8d03065462",
   "metadata": {},
   "source": [
    "Get a random set of parameters, force gamma to 13/3"
   ]
  },
  {
   "cell_type": "code",
   "execution_count": 282,
   "id": "d2a13f36-3e5e-424b-a751-57a8a6add516",
   "metadata": {},
   "outputs": [],
   "source": [
    "p0 = ds.sample_uniform(os.params, priordict={'gw_(.*_)?gamma': [13/3,13/3]})"
   ]
  },
  {
   "cell_type": "markdown",
   "id": "5023f127-76cd-4795-965d-b5060c5fb21b",
   "metadata": {},
   "source": [
    "Compute the OS for the data. You get also the corresponding sigma, SNR, and the amplitude of the GW."
   ]
  },
  {
   "cell_type": "code",
   "execution_count": 283,
   "id": "02dbb033-1243-48be-a5db-26801617bb95",
   "metadata": {},
   "outputs": [
    {
     "data": {
      "text/plain": [
       "{'os': Array(-2.23750894e-32, dtype=float64),\n",
       " 'os_sigma': Array(5.3711866e-32, dtype=float64),\n",
       " 'snr': Array(-0.41657628, dtype=float64),\n",
       " 'log10_A': -16.68645696701825}"
      ]
     },
     "execution_count": 283,
     "metadata": {},
     "output_type": "execute_result"
    }
   ],
   "source": [
    "os.os(p0)"
   ]
  },
  {
   "cell_type": "markdown",
   "id": "d5fdaee3-8436-4cce-956a-540d9f58bb98",
   "metadata": {},
   "source": [
    "### Alternative ORFs"
   ]
  },
  {
   "cell_type": "markdown",
   "id": "756eb6c1-0dac-4a22-bbf7-51c6f4f0d202",
   "metadata": {},
   "source": [
    "The ORF takes only one parameter (the product `z = dot(pos1, pos2)`). Discovery predefines `hd_orfa`, `monopole_orfa`, `dipole_orfa`."
   ]
  },
  {
   "cell_type": "code",
   "execution_count": 151,
   "id": "ab6e706a-834a-4b08-b224-a75b11444038",
   "metadata": {},
   "outputs": [
    {
     "data": {
      "text/plain": [
       "{'os': Array(-1.29986081e-29, dtype=float64),\n",
       " 'os_sigma': Array(5.34601231e-26, dtype=float64),\n",
       " 'snr': Array(-0.00024315, dtype=float64),\n",
       " 'log10_A': -11.735012908976142}"
      ]
     },
     "execution_count": 151,
     "metadata": {},
     "output_type": "execute_result"
    }
   ],
   "source": [
    "os.os(p0, ds.monopole_orfa)"
   ]
  },
  {
   "cell_type": "code",
   "execution_count": 152,
   "id": "8c322c6b-2b08-4bab-90af-f474ba972071",
   "metadata": {},
   "outputs": [
    {
     "data": {
      "text/plain": [
       "{'os': Array(-3.63024361e-29, dtype=float64),\n",
       " 'os_sigma': Array(8.89358794e-26, dtype=float64),\n",
       " 'snr': Array(-0.00040819, dtype=float64),\n",
       " 'log10_A': -11.735012908976142}"
      ]
     },
     "execution_count": 152,
     "metadata": {},
     "output_type": "execute_result"
    }
   ],
   "source": [
    "os.os(p0, ds.dipole_orfa)"
   ]
  },
  {
   "cell_type": "markdown",
   "id": "92772234-842e-4155-84c3-3db71b8d77da",
   "metadata": {},
   "source": [
    "### \"Marginalized\" OS "
   ]
  },
  {
   "cell_type": "markdown",
   "id": "3f26f52c-29ab-4363-9658-f7e5b3356a21",
   "metadata": {},
   "source": [
    "Create a population of parameters (normally we'd get them from an MCMC run)."
   ]
  },
  {
   "cell_type": "code",
   "execution_count": 137,
   "id": "4d831d02-e0ba-45ca-9f88-197330a850e3",
   "metadata": {},
   "outputs": [],
   "source": [
    "p0s = ds.sample_uniform(os.params, priordict={'gw_(.*_)?gamma': [13/3,13/3]}, n=5)"
   ]
  },
  {
   "cell_type": "code",
   "execution_count": 139,
   "id": "4a082435-7eef-46f8-a5b3-1882ba874b27",
   "metadata": {},
   "outputs": [
    {
     "data": {
      "text/plain": [
       "array([6.37568508, 0.16135588, 4.05086831, 1.55535668, 2.3588312 ])"
      ]
     },
     "execution_count": 139,
     "metadata": {},
     "output_type": "execute_result"
    }
   ],
   "source": [
    "p0s['B1855+09_red_noise_gamma']"
   ]
  },
  {
   "cell_type": "markdown",
   "id": "568a6f98-6364-4f91-a672-ffebd72dc20c",
   "metadata": {},
   "source": [
    "Then we `jax.vmap` over parameter sets"
   ]
  },
  {
   "cell_type": "code",
   "execution_count": 140,
   "id": "95b8ad5d-7a2e-459c-a5c3-20ca05fd5c11",
   "metadata": {},
   "outputs": [],
   "source": [
    "os_vpar = jax.vmap(os.os)"
   ]
  },
  {
   "cell_type": "code",
   "execution_count": 141,
   "id": "22617978-b92b-4528-a4a1-000f6fa96ebe",
   "metadata": {},
   "outputs": [
    {
     "data": {
      "text/plain": [
       "{'log10_A': array([-12.5312213 , -17.50356974, -17.24652392, -11.31262009,\n",
       "        -15.61006028]),\n",
       " 'os': Array([-6.24062656e-31,  7.58635346e-31, -1.38316464e-28,  1.73267559e-30,\n",
       "        -7.97481287e-31], dtype=float64),\n",
       " 'os_sigma': Array([1.69509737e-28, 9.26521296e-31, 8.17114515e-32, 9.13231601e-28,\n",
       "        2.30460521e-32], dtype=float64),\n",
       " 'snr': Array([-3.68157409e-03,  8.18799686e-01, -1.69274271e+03,  1.89730139e-03,\n",
       "        -3.46038134e+01], dtype=float64)}"
      ]
     },
     "execution_count": 141,
     "metadata": {},
     "output_type": "execute_result"
    }
   ],
   "source": [
    "os_vpar(p0s)"
   ]
  },
  {
   "cell_type": "markdown",
   "id": "b85435d5-f4a5-4b0c-8bbf-bf4b671a0f71",
   "metadata": {},
   "source": [
    "### Scrambles"
   ]
  },
  {
   "cell_type": "markdown",
   "id": "37eadbca-e3ff-4eb8-8edc-5380cab6e59f",
   "metadata": {},
   "source": [
    "`os.scramble` takes as a second argument an array (or list) of pulsar positions of dimension `(npsr, 3)`"
   ]
  },
  {
   "cell_type": "code",
   "execution_count": 81,
   "id": "c470b099-33f7-44bc-896d-f9107163e639",
   "metadata": {},
   "outputs": [
    {
     "data": {
      "text/plain": [
       "Array([[ 0.235276  , -0.95735312,  0.16769083],\n",
       "       [ 0.38400231, -0.84770959,  0.36596539],\n",
       "       [ 0.41542527, -0.76954724,  0.4849937 ],\n",
       "       [ 0.98151466,  0.10005025,  0.16315308],\n",
       "       [ 0.98761743,  0.1320268 ,  0.08473928],\n",
       "       [ 0.42846049,  0.61411581,  0.66278457],\n",
       "       [ 0.40865968,  0.75692046,  0.5099693 ],\n",
       "       [ 0.23974131,  0.63501757, -0.73435467],\n",
       "       [ 0.21645786,  0.96384399,  0.15540512],\n",
       "       [ 0.01039278,  0.96199519,  0.27286854]], dtype=float64)"
      ]
     },
     "execution_count": 81,
     "metadata": {},
     "output_type": "execute_result"
    }
   ],
   "source": [
    "jnp.array(os.pos)"
   ]
  },
  {
   "cell_type": "code",
   "execution_count": 79,
   "id": "6efd8d53-38ca-41a5-b319-3aeb1f780bf6",
   "metadata": {},
   "outputs": [
    {
     "data": {
      "text/plain": [
       "{'os': Array(-5.27394604e-29, dtype=float64),\n",
       " 'os_sigma': Array(5.68738967e-28, dtype=float64),\n",
       " 'snr': Array(-0.09273052, dtype=float64),\n",
       " 'log10_A': -13.224563963472699}"
      ]
     },
     "execution_count": 79,
     "metadata": {},
     "output_type": "execute_result"
    }
   ],
   "source": [
    "os.scramble(p0, jnp.array(os.pos))"
   ]
  },
  {
   "cell_type": "markdown",
   "id": "199c62e1-fb9d-445d-a3d6-27eedcc38f49",
   "metadata": {},
   "source": [
    "To build a background you'll want a random array of positions of dimension `(nscramble, npsr, 3)`"
   ]
  },
  {
   "cell_type": "code",
   "execution_count": 96,
   "id": "a22888ad-f8ac-4c64-aeac-cd0908347004",
   "metadata": {},
   "outputs": [],
   "source": [
    "key = ds.matrix.jnpkey(42)\n",
    "rpos = jax.random.normal(key, (15, len(psrs), 3))\n",
    "npos = rpos / jnp.linalg.norm(rpos, axis=2)[:,:,None] # normalize vectors"
   ]
  },
  {
   "cell_type": "markdown",
   "id": "7965b68d-1c1e-4c8d-8206-b86f28a5b5f0",
   "metadata": {},
   "source": [
    "Then we `jax.vmap` over positions (the second argument)."
   ]
  },
  {
   "cell_type": "code",
   "execution_count": 97,
   "id": "a4608072-c475-4c34-bd55-7c0ac6bdb28d",
   "metadata": {},
   "outputs": [],
   "source": [
    "scramble_vpos = jax.vmap(os.scramble, (None,0))"
   ]
  },
  {
   "cell_type": "code",
   "execution_count": 99,
   "id": "b7241577-7e0c-4ff5-80c1-6a5895c22926",
   "metadata": {},
   "outputs": [
    {
     "data": {
      "text/plain": [
       "{'log10_A': Array([-13.22456396, -13.22456396, -13.22456396, -13.22456396,\n",
       "        -13.22456396, -13.22456396, -13.22456396, -13.22456396,\n",
       "        -13.22456396, -13.22456396, -13.22456396, -13.22456396,\n",
       "        -13.22456396, -13.22456396, -13.22456396],      dtype=float64, weak_type=True),\n",
       " 'os': Array([-4.61361936e-29, -1.53108046e-29, -1.25861586e-29,  1.01599401e-29,\n",
       "         5.46241062e-29,  1.72848363e-29,  1.65206999e-29,  6.07175469e-29,\n",
       "        -7.56176146e-29, -2.10386978e-29,  1.67206452e-29,  7.26641395e-29,\n",
       "         9.63014747e-30,  6.02527024e-29,  2.90606473e-29], dtype=float64),\n",
       " 'os_sigma': Array([9.35418117e-28, 9.55437756e-28, 5.42256692e-28, 8.11087070e-28,\n",
       "        1.06316967e-27, 1.02139026e-27, 7.66377352e-28, 8.31468948e-28,\n",
       "        7.64298670e-28, 6.79797936e-28, 9.59787413e-28, 9.96676216e-28,\n",
       "        9.27850735e-28, 9.36542510e-28, 7.37999355e-28], dtype=float64),\n",
       " 'snr': Array([-0.04932147, -0.01602491, -0.0232107 ,  0.01252632,  0.05137854,\n",
       "         0.01692285,  0.02155687,  0.07302443, -0.09893726, -0.03094846,\n",
       "         0.0174212 ,  0.07290646,  0.01037898,  0.06433526,  0.03937761],      dtype=float64)}"
      ]
     },
     "execution_count": 99,
     "metadata": {},
     "output_type": "execute_result"
    }
   ],
   "source": [
    "scramble_vpos(p0, npos)"
   ]
  },
  {
   "cell_type": "markdown",
   "id": "b069a97b-2277-44e3-bbf5-c441ae38f842",
   "metadata": {},
   "source": [
    "### Phase shifts"
   ]
  },
  {
   "cell_type": "markdown",
   "id": "51a80095-c4a4-47aa-9a77-ce6a6cf47621",
   "metadata": {},
   "source": [
    "These require a diagonal Fourier GW object."
   ]
  },
  {
   "cell_type": "code",
   "execution_count": 191,
   "id": "5147b8f2-2323-44e9-9783-ef8a37fd29e8",
   "metadata": {},
   "outputs": [],
   "source": [
    "gbl = ds.GlobalLikelihood([ds.PulsarLikelihood([psr.residuals,\n",
    "                                                ds.makenoise_measurement(psr, psr.noisedict),\n",
    "                                                ds.makegp_ecorr(psr, psr.noisedict),\n",
    "                                                ds.makegp_timing(psr, svd=True),\n",
    "                                                ds.makegp_fourier(psr, ds.brokenpowerlaw, 30, T=Tspan, name='red_noise'),\n",
    "                                                ds.makegp_fourier(psr, ds.brokenpowerlaw, 14, T=Tspan,\n",
    "                                                                  common=['gw_log10_A', 'gw_gamma', 'gw_log10_fb'], name='gw')\n",
    "                                                ]) for psr in psrs])"
   ]
  },
  {
   "cell_type": "code",
   "execution_count": 192,
   "id": "2b91a20c-7bad-446c-82ad-477de0ac603e",
   "metadata": {},
   "outputs": [],
   "source": [
    "os = ds.OS(gbl)"
   ]
  },
  {
   "cell_type": "code",
   "execution_count": 193,
   "id": "e7b4f219-4266-4b89-a678-e0e7bc7a0e5e",
   "metadata": {},
   "outputs": [
    {
     "data": {
      "text/plain": [
       "{'os': Array(-4.30823733e-27, dtype=float64),\n",
       " 'os_sigma': Array(6.93011257e-25, dtype=float64),\n",
       " 'snr': Array(-0.00621669, dtype=float64),\n",
       " 'log10_A': -11.735012908976142}"
      ]
     },
     "execution_count": 193,
     "metadata": {},
     "output_type": "execute_result"
    }
   ],
   "source": [
    "os.os(p0)"
   ]
  },
  {
   "cell_type": "markdown",
   "id": "0e4308e7-04bf-4b13-91d0-033939170faa",
   "metadata": {},
   "source": [
    "`os.shift` takes as a second argument an array (or list) of pulsar positions of dimension `(npsr, nfreq)`."
   ]
  },
  {
   "cell_type": "markdown",
   "id": "e0c5b1bc-cb95-42eb-a423-ca43432f03e7",
   "metadata": {},
   "source": [
    "Sanity check..."
   ]
  },
  {
   "cell_type": "code",
   "execution_count": 194,
   "id": "00302cc7-cc3d-416d-9907-9e09f314fb33",
   "metadata": {},
   "outputs": [
    {
     "data": {
      "text/plain": [
       "{'os': Array(-4.30823733e-27, dtype=float64),\n",
       " 'os_sigma': Array(6.93011257e-25, dtype=float64),\n",
       " 'snr': Array(-0.00621669, dtype=float64),\n",
       " 'log10_A': -11.735012908976142}"
      ]
     },
     "execution_count": 194,
     "metadata": {},
     "output_type": "execute_result"
    }
   ],
   "source": [
    "zero = jnp.zeros((len(psrs),14))\n",
    "os.shift(p0, zero)"
   ]
  },
  {
   "cell_type": "code",
   "execution_count": 195,
   "id": "e7c7562e-4a73-4f95-999b-173c6bfd56d2",
   "metadata": {},
   "outputs": [],
   "source": [
    "key = ds.matrix.jnpkey(42)\n",
    "phases = 2.0 * jnp.pi * jax.random.uniform(key, shape=(20,10,14))"
   ]
  },
  {
   "cell_type": "markdown",
   "id": "b7b69e56-1270-4984-96dc-24eb47fbff46",
   "metadata": {},
   "source": [
    "Then we `jax.vmap` over phases (the second argument)."
   ]
  },
  {
   "cell_type": "code",
   "execution_count": 196,
   "id": "7fa8be52-3fb3-4ced-8f76-4985078d02b8",
   "metadata": {},
   "outputs": [],
   "source": [
    "shift_vphase = jax.vmap(os.shift, (None,0))"
   ]
  },
  {
   "cell_type": "code",
   "execution_count": 197,
   "id": "0b010936-d19e-4bb1-9e6c-eb7ae5d3b489",
   "metadata": {},
   "outputs": [
    {
     "data": {
      "text/plain": [
       "{'log10_A': Array([-11.73501291, -11.73501291, -11.73501291, -11.73501291,\n",
       "        -11.73501291, -11.73501291, -11.73501291, -11.73501291,\n",
       "        -11.73501291, -11.73501291, -11.73501291, -11.73501291,\n",
       "        -11.73501291, -11.73501291, -11.73501291, -11.73501291,\n",
       "        -11.73501291, -11.73501291, -11.73501291, -11.73501291],      dtype=float64, weak_type=True),\n",
       " 'os': Array([ 3.33941002e-27, -7.33895271e-28,  8.43668277e-28,  6.88771478e-28,\n",
       "        -4.11956898e-27, -4.53248655e-27, -1.41526412e-28,  3.27782405e-29,\n",
       "         2.40576463e-27,  4.13801015e-28,  1.67877729e-27,  7.12885800e-28,\n",
       "        -2.09995848e-28, -4.57350093e-28, -3.42784005e-27,  4.21363613e-27,\n",
       "        -1.01422436e-27,  2.77293787e-27, -4.00326034e-28,  1.39401202e-27],      dtype=float64),\n",
       " 'os_sigma': Array([6.93011257e-25, 6.93011257e-25, 6.93011257e-25, 6.93011257e-25,\n",
       "        6.93011257e-25, 6.93011257e-25, 6.93011257e-25, 6.93011257e-25,\n",
       "        6.93011257e-25, 6.93011257e-25, 6.93011257e-25, 6.93011257e-25,\n",
       "        6.93011257e-25, 6.93011257e-25, 6.93011257e-25, 6.93011257e-25,\n",
       "        6.93011257e-25, 6.93011257e-25, 6.93011257e-25, 6.93011257e-25],      dtype=float64),\n",
       " 'snr': Array([ 4.81869520e-03, -1.05899473e-03,  1.21739477e-03,  9.93882092e-04,\n",
       "        -5.94444742e-03, -6.54027840e-03, -2.04219499e-04,  4.72982801e-05,\n",
       "         3.47146544e-03,  5.97105762e-04,  2.42243871e-03,  1.02867853e-03,\n",
       "        -3.03019389e-04, -6.59946124e-04, -4.94629779e-03,  6.08018425e-03,\n",
       "        -1.46350344e-03,  4.00128835e-03, -5.77661662e-04,  2.01152868e-03],      dtype=float64)}"
      ]
     },
     "execution_count": 197,
     "metadata": {},
     "output_type": "execute_result"
    }
   ],
   "source": [
    "shift_vphase(p0, phases)"
   ]
  },
  {
   "cell_type": "markdown",
   "id": "18982470-fa17-4e8e-8272-cdb98013c3c7",
   "metadata": {},
   "source": [
    "### Plotting correlation coefficients"
   ]
  },
  {
   "cell_type": "markdown",
   "id": "00c20119-6b09-4659-bb48-f8409a53adbf",
   "metadata": {},
   "source": [
    "Build a NANOGrav 15-yr model using all the pulsars."
   ]
  },
  {
   "cell_type": "code",
   "execution_count": 466,
   "id": "7c586885-d158-4f70-82aa-c0d740a87742",
   "metadata": {},
   "outputs": [],
   "source": [
    "gbl = ds.GlobalLikelihood([ds.PulsarLikelihood([psr.residuals,\n",
    "                                                ds.makenoise_measurement(psr, psr.noisedict),\n",
    "                                                ds.makegp_ecorr(psr, psr.noisedict),\n",
    "                                                ds.makegp_timing(psr, svd=True),\n",
    "                                                ds.makegp_fourier(psr, ds.powerlaw, 30, T=Tspan, name='red_noise'),\n",
    "                                                ds.makegp_fourier(psr, ds.powerlaw, 14, T=Tspan,\n",
    "                                                                  common=['gw_log10_A', 'gw_gamma'], name='gw')\n",
    "                                                ]) for psr in allpsrs])"
   ]
  },
  {
   "cell_type": "code",
   "execution_count": 467,
   "id": "d7d219cb-05d4-4dc4-be6e-7f772128f0a3",
   "metadata": {},
   "outputs": [],
   "source": [
    "os = ds.OS(gbl)"
   ]
  },
  {
   "cell_type": "markdown",
   "id": "e437d5b0-5e95-4ab6-a66b-a2d5977a891a",
   "metadata": {},
   "source": [
    "Get the MAP parameter set from an actual MCMC run on 15-yr NANOGrav data"
   ]
  },
  {
   "cell_type": "code",
   "execution_count": 313,
   "id": "7bfe0ce6-6bd8-4ff0-92d6-c0917d3b608b",
   "metadata": {},
   "outputs": [],
   "source": [
    "df = pd.read_feather('../data/NG15yr-m2a-chain.feather')"
   ]
  },
  {
   "cell_type": "code",
   "execution_count": 469,
   "id": "1c92db61-e1c9-41db-9eae-8400c2a4044f",
   "metadata": {},
   "outputs": [],
   "source": [
    "p0 = df.iloc[df['logp'].argmax()].to_dict()"
   ]
  },
  {
   "cell_type": "markdown",
   "id": "96df9e44-78ec-4a7e-8cbd-755e50880173",
   "metadata": {},
   "source": [
    "Sanity check"
   ]
  },
  {
   "cell_type": "code",
   "execution_count": 471,
   "id": "aee3aa5c-afa5-4b1b-b3f2-0385dcb614a7",
   "metadata": {},
   "outputs": [
    {
     "data": {
      "text/plain": [
       "{'os': Array(4.79414854e-29, dtype=float64),\n",
       " 'os_sigma': Array(9.4426185e-30, dtype=float64),\n",
       " 'snr': Array(5.07713886, dtype=float64),\n",
       " 'log10_A': -14.186517715454102}"
      ]
     },
     "execution_count": 471,
     "metadata": {},
     "output_type": "execute_result"
    }
   ],
   "source": [
    "os.os(p0)"
   ]
  },
  {
   "cell_type": "markdown",
   "id": "d7672301-3569-4f07-bff2-554ba864f890",
   "metadata": {},
   "source": [
    "Simple minded correlation plot: get angles and bin the data"
   ]
  },
  {
   "cell_type": "code",
   "execution_count": 482,
   "id": "2a91e47a-3830-4301-9e2f-934125592a0a",
   "metadata": {},
   "outputs": [],
   "source": [
    "def oscorr(os, p0, nbins=10):\n",
    "    iota = np.arccos(jnp.array(os.angles)) * (180 / np.pi)\n",
    "\n",
    "    bins = np.linspace(0, 180, nbins + 1)\n",
    "    indices = np.digitize(iota, bins) - 1\n",
    "    masks = [np.where(indices == i)[0] for i in range(nbins)]\n",
    "\n",
    "    # orfs = ds.hd_orfa(np.array(os.angles))\n",
    "    orfs = np.ones_like(os.angles)\n",
    "\n",
    "    rhos, sigmas = os.os_rhosigma(p0)\n",
    "    gwnorm = 10**(2.0 * p0[os.gwpar])\n",
    "    rhos, sigmas = gwnorm * rhos, gwnorm * sigmas\n",
    "    \n",
    "    iotas = [np.mean(iota[mask]) for mask in masks]\n",
    "    oses = [np.sum(rhos[mask] * orfs[mask] / sigmas[mask]**2) / np.sum(orfs[mask]**2 / sigmas[mask]**2)\n",
    "            for mask in masks]\n",
    "    osigs = [1 / np.sqrt(np.sum(orfs[mask]**2 / sigmas[mask]**2))\n",
    "           for mask in masks]\n",
    "\n",
    "    return iotas, oses, osigs"
   ]
  },
  {
   "cell_type": "code",
   "execution_count": 483,
   "id": "a648eb63-e5aa-4497-bc18-d1a2bdbdaef0",
   "metadata": {},
   "outputs": [],
   "source": [
    "iotas, oses, osigs = oscorr(os, p0)"
   ]
  },
  {
   "cell_type": "code",
   "execution_count": 503,
   "id": "fcee8465-c5ed-4e37-9812-272c8ea07a88",
   "metadata": {},
   "outputs": [
    {
     "data": {
      "image/png": "[encoded data removed]",
      "text/plain": [
       "<Figure size 640x480 with 1 Axes>"
      ]
     },
     "metadata": {},
     "output_type": "display_data"
    }
   ],
   "source": [
    "pp.errorbar(iotas, oses, yerr=osigs, fmt='.')\n",
    "\n",
    "a = np.linspace(1e-6, 180)\n",
    "hd = os.os(p0)['os'] * ds.hd_orfa(np.cos(a * (np.pi/180.0)))\n",
    "\n",
    "pp.plot(a, hd)\n",
    "pp.xlabel('iota'); pp.ylabel(r'$A_\\mathrm{gw}^2$');"
   ]
  }
 ],
 "metadata": {
  "kernelspec": {
   "display_name": "Python 3 (ipykernel)",
   "language": "python",
   "name": "python3"
  },
  "language_info": {
   "codemirror_mode": {
    "name": "ipython",
    "version": 3
   },
   "file_extension": ".py",
   "mimetype": "text/x-python",
   "name": "python",
   "nbconvert_exporter": "python",
   "pygments_lexer": "ipython3",
   "version": "3.13.1"
  }
 },
 "nbformat": 4,
 "nbformat_minor": 5
}
