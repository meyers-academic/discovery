{
 "cells": [
  {
   "cell_type": "code",
   "execution_count": 1,
   "id": "e9ac3d3a-d488-4d91-b49c-eed4ae380b7e",
   "metadata": {},
   "outputs": [],
   "source": [
    "%load_ext autoreload\n",
    "%autoreload 3\n",
    "import pickle\n",
    "import discovery as ds\n",
    "import glob\n",
    "import numpy as np\n",
    "import json\n",
    "import jax\n",
    "import numpyro\n",
    "import matplotlib.pyplot as plt\n",
    "import jax.numpy as jnp\n",
    "import ipta_dr3_functions as dr3\n",
    "import numpyro.distributions as dist\n",
    "import numpyro.infer as infer"
   ]
  },
  {
   "cell_type": "code",
   "execution_count": 2,
   "id": "7cc4430f-d2a5-43a7-9302-9b1758ad544c",
   "metadata": {},
   "outputs": [],
   "source": [
    "# load pulsars from feather location. convention is to sort these, to keep\n",
    "# ordering the same in general.\n",
    "\n",
    "# If you have a pulsar pickle with a list of enterprise pulsars you can \n",
    "# create feather files by running: `dr3.pickle_to_feather(psr_pickle, output_feather_directory, tag='ipta_edr3')`\n",
    "# and it will load the pickle and create feather files for each pulsar here: f'{output_feather_directory}/{psr.name}_{tag}.feather'\n",
    "\n",
    "psrs = [ds.Pulsar.read_feather(f) for f in sorted(glob.glob('edr3_feathers/*_edr3_t2.feather'))][:3] # only 3 pulsars for now"
   ]
  },
  {
   "cell_type": "code",
   "execution_count": 3,
   "id": "87093909-b4e1-4962-9fc6-93137a8ea74c",
   "metadata": {},
   "outputs": [],
   "source": [
    "# get pulsar names\n",
    "pulsar_names = [psr.name for psr in psrs]"
   ]
  },
  {
   "cell_type": "code",
   "execution_count": 4,
   "id": "86096c3e-1fdd-48b2-9088-da6fc88d55bb",
   "metadata": {},
   "outputs": [],
   "source": [
    "# load white noise dict, fix negative infinities\n",
    "wn_dict = dr3.load_wn_dict('TN_wn_dict_enterprise_compatible.json')"
   ]
  },
  {
   "cell_type": "code",
   "execution_count": 5,
   "id": "982776f5-7104-4664-89f9-3f4f037fd8e3",
   "metadata": {},
   "outputs": [],
   "source": [
    "# create curn and numpyro model\n",
    "curn_numpyro_model = dr3.create_ipta_curn_numpyro_model(psrs, wn_dict,\n",
    "                                                        num_red_noise_frequencies=30,\n",
    "                                                        num_dmgp_frequencies=100,\n",
    "                                                        num_curn_frequencies=8)"
   ]
  },
  {
   "cell_type": "code",
   "execution_count": 6,
   "id": "c80c0c66-0e4f-4506-ad3e-2ff3c81b7bf1",
   "metadata": {},
   "outputs": [],
   "source": [
    "# set up numpyro NUTS sampling, fewer samples, smaller tree depth \n",
    "# for finding new sample so this doesn't run forever on CPU. \n",
    "kernel_curn = infer.NUTS(curn_numpyro_model, max_tree_depth=6)\n",
    "sampler_curn = infer.MCMC(kernel_curn, num_samples=100, num_warmup=100)"
   ]
  },
  {
   "cell_type": "code",
   "execution_count": null,
   "id": "d6f9eb17-17ca-494b-b119-a21b44685fde",
   "metadata": {},
   "outputs": [
    {
     "name": "stderr",
     "output_type": "stream",
     "text": [
      "sample:  74%|███████▍  | 148/200 [01:05<00:21,  2.45it/s, 63 steps of size 1.22e-01. acc. prob=0.65]"
     ]
    }
   ],
   "source": [
    "# run sampler. \n",
    "# may take a while for first sample because numpyro has to compile the jax code.\n",
    "sampler_curn.run(jax.random.PRNGKey(123))"
   ]
  },
  {
   "cell_type": "code",
   "execution_count": null,
   "id": "e2e33984-8c33-46e7-8775-268025617b4e",
   "metadata": {},
   "outputs": [],
   "source": [
    "# get samples\n",
    "samples = sampler_curn.get_samples()"
   ]
  },
  {
   "cell_type": "code",
   "execution_count": null,
   "id": "7d5f5655-f41d-4c51-bc98-91f1b93f781b",
   "metadata": {},
   "outputs": [
    {
     "data": {
      "text/plain": [
       "dict_keys(['crn_gamma', 'crn_log10_A', 'dmgp_gamma', 'dmgp_log10_A', 'loglike', 'red_noise_gamma', 'red_noise_log10_A'])"
      ]
     },
     "execution_count": 9,
     "metadata": {},
     "output_type": "execute_result"
    }
   ],
   "source": [
    "samples.keys()"
   ]
  },
  {
   "cell_type": "code",
   "execution_count": null,
   "id": "d414072b-52c9-4f1e-9dca-0c4b946d1494",
   "metadata": {},
   "outputs": [
    {
     "data": {
      "image/png": "[encoded data removed]",
      "text/plain": [
       "<Figure size 640x480 with 1 Axes>"
      ]
     },
     "metadata": {},
     "output_type": "display_data"
    }
   ],
   "source": [
    "plt.hist(samples['dmgp_gamma'][:, 0], bins='auto')\n",
    "plt.title(f\"{pulsar_names[0]} DMGP $\\gamma$\")\n",
    "plt.show()"
   ]
  }
 ],
 "metadata": {
  "kernelspec": {
   "display_name": "discovery_clean",
   "language": "python",
   "name": "python3"
  },
  "language_info": {
   "codemirror_mode": {
    "name": "ipython",
    "version": 3
   },
   "file_extension": ".py",
   "mimetype": "text/x-python",
   "name": "python",
   "nbconvert_exporter": "python",
   "pygments_lexer": "ipython3",
   "version": "3.11.0"
  }
 },
 "nbformat": 4,
 "nbformat_minor": 5
}
